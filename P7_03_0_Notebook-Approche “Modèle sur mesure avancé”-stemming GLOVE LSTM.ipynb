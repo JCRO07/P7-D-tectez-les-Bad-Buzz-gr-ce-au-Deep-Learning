{
 "cells": [
  {
   "cell_type": "code",
   "execution_count": 1,
   "metadata": {},
   "outputs": [],
   "source": [
    "from urllib import request\n",
    "import pandas as pd\n",
    "import numpy as np\n",
    "import scipy.stats as st\n",
    "import matplotlib.pyplot as plt\n",
    "import seaborn as sns\n",
    "import re\n",
    "from sklearn import decomposition\n",
    "from sklearn import preprocessing\n",
    "sns.set()\n",
    "# Python program to read \n",
    "# json file \n",
    " \n",
    "import json "
   ]
  },
  {
   "cell_type": "code",
   "execution_count": 2,
   "metadata": {},
   "outputs": [
    {
     "name": "stderr",
     "output_type": "stream",
     "text": [
      "Using TensorFlow backend.\n",
      "C:\\Users\\jcrro\\anaconda3\\envs\\EnvP7\\lib\\site-packages\\tensorflow\\python\\framework\\dtypes.py:516: FutureWarning: Passing (type, 1) or '1type' as a synonym of type is deprecated; in a future version of numpy, it will be understood as (type, (1,)) / '(1,)type'.\n",
      "  _np_qint8 = np.dtype([(\"qint8\", np.int8, 1)])\n",
      "C:\\Users\\jcrro\\anaconda3\\envs\\EnvP7\\lib\\site-packages\\tensorflow\\python\\framework\\dtypes.py:517: FutureWarning: Passing (type, 1) or '1type' as a synonym of type is deprecated; in a future version of numpy, it will be understood as (type, (1,)) / '(1,)type'.\n",
      "  _np_quint8 = np.dtype([(\"quint8\", np.uint8, 1)])\n",
      "C:\\Users\\jcrro\\anaconda3\\envs\\EnvP7\\lib\\site-packages\\tensorflow\\python\\framework\\dtypes.py:518: FutureWarning: Passing (type, 1) or '1type' as a synonym of type is deprecated; in a future version of numpy, it will be understood as (type, (1,)) / '(1,)type'.\n",
      "  _np_qint16 = np.dtype([(\"qint16\", np.int16, 1)])\n",
      "C:\\Users\\jcrro\\anaconda3\\envs\\EnvP7\\lib\\site-packages\\tensorflow\\python\\framework\\dtypes.py:519: FutureWarning: Passing (type, 1) or '1type' as a synonym of type is deprecated; in a future version of numpy, it will be understood as (type, (1,)) / '(1,)type'.\n",
      "  _np_quint16 = np.dtype([(\"quint16\", np.uint16, 1)])\n",
      "C:\\Users\\jcrro\\anaconda3\\envs\\EnvP7\\lib\\site-packages\\tensorflow\\python\\framework\\dtypes.py:520: FutureWarning: Passing (type, 1) or '1type' as a synonym of type is deprecated; in a future version of numpy, it will be understood as (type, (1,)) / '(1,)type'.\n",
      "  _np_qint32 = np.dtype([(\"qint32\", np.int32, 1)])\n",
      "C:\\Users\\jcrro\\anaconda3\\envs\\EnvP7\\lib\\site-packages\\tensorflow\\python\\framework\\dtypes.py:525: FutureWarning: Passing (type, 1) or '1type' as a synonym of type is deprecated; in a future version of numpy, it will be understood as (type, (1,)) / '(1,)type'.\n",
      "  np_resource = np.dtype([(\"resource\", np.ubyte, 1)])\n",
      "C:\\Users\\jcrro\\anaconda3\\envs\\EnvP7\\lib\\site-packages\\tensorboard\\compat\\tensorflow_stub\\dtypes.py:541: FutureWarning: Passing (type, 1) or '1type' as a synonym of type is deprecated; in a future version of numpy, it will be understood as (type, (1,)) / '(1,)type'.\n",
      "  _np_qint8 = np.dtype([(\"qint8\", np.int8, 1)])\n",
      "C:\\Users\\jcrro\\anaconda3\\envs\\EnvP7\\lib\\site-packages\\tensorboard\\compat\\tensorflow_stub\\dtypes.py:542: FutureWarning: Passing (type, 1) or '1type' as a synonym of type is deprecated; in a future version of numpy, it will be understood as (type, (1,)) / '(1,)type'.\n",
      "  _np_quint8 = np.dtype([(\"quint8\", np.uint8, 1)])\n",
      "C:\\Users\\jcrro\\anaconda3\\envs\\EnvP7\\lib\\site-packages\\tensorboard\\compat\\tensorflow_stub\\dtypes.py:543: FutureWarning: Passing (type, 1) or '1type' as a synonym of type is deprecated; in a future version of numpy, it will be understood as (type, (1,)) / '(1,)type'.\n",
      "  _np_qint16 = np.dtype([(\"qint16\", np.int16, 1)])\n",
      "C:\\Users\\jcrro\\anaconda3\\envs\\EnvP7\\lib\\site-packages\\tensorboard\\compat\\tensorflow_stub\\dtypes.py:544: FutureWarning: Passing (type, 1) or '1type' as a synonym of type is deprecated; in a future version of numpy, it will be understood as (type, (1,)) / '(1,)type'.\n",
      "  _np_quint16 = np.dtype([(\"quint16\", np.uint16, 1)])\n",
      "C:\\Users\\jcrro\\anaconda3\\envs\\EnvP7\\lib\\site-packages\\tensorboard\\compat\\tensorflow_stub\\dtypes.py:545: FutureWarning: Passing (type, 1) or '1type' as a synonym of type is deprecated; in a future version of numpy, it will be understood as (type, (1,)) / '(1,)type'.\n",
      "  _np_qint32 = np.dtype([(\"qint32\", np.int32, 1)])\n",
      "C:\\Users\\jcrro\\anaconda3\\envs\\EnvP7\\lib\\site-packages\\tensorboard\\compat\\tensorflow_stub\\dtypes.py:550: FutureWarning: Passing (type, 1) or '1type' as a synonym of type is deprecated; in a future version of numpy, it will be understood as (type, (1,)) / '(1,)type'.\n",
      "  np_resource = np.dtype([(\"resource\", np.ubyte, 1)])\n"
     ]
    }
   ],
   "source": [
    "import numpy as np # linear algebra\n",
    "import pandas as pd # data processing, CSV file I/O (e.g. pd.read_csv)\n",
    "\n",
    "from sklearn.feature_extraction.text import CountVectorizer\n",
    "from sklearn.metrics import confusion_matrix, accuracy_score\n",
    "from sklearn.model_selection import train_test_split\n",
    "\n",
    "from keras.preprocessing.text import Tokenizer\n",
    "from keras.preprocessing.sequence import pad_sequences\n",
    "from keras.models import Sequential\n",
    "from keras.layers import *\n",
    "from keras.utils.np_utils import to_categorical\n",
    "from keras.initializers import Constant\n",
    "import re\n",
    "\n",
    "import matplotlib.pyplot as plt\n",
    "%matplotlib inline"
   ]
  },
  {
   "cell_type": "code",
   "execution_count": 3,
   "metadata": {},
   "outputs": [],
   "source": [
    "commentData = pd.read_csv('P7_01_0_training.1600.processed.noemoticon.csv', encoding='ISO-8859-1')"
   ]
  },
  {
   "cell_type": "code",
   "execution_count": 4,
   "metadata": {
    "scrolled": false
   },
   "outputs": [
    {
     "data": {
      "text/html": [
       "<div>\n",
       "<style scoped>\n",
       "    .dataframe tbody tr th:only-of-type {\n",
       "        vertical-align: middle;\n",
       "    }\n",
       "\n",
       "    .dataframe tbody tr th {\n",
       "        vertical-align: top;\n",
       "    }\n",
       "\n",
       "    .dataframe thead th {\n",
       "        text-align: right;\n",
       "    }\n",
       "</style>\n",
       "<table border=\"1\" class=\"dataframe\">\n",
       "  <thead>\n",
       "    <tr style=\"text-align: right;\">\n",
       "      <th></th>\n",
       "      <th>target</th>\n",
       "      <th>id</th>\n",
       "      <th>date</th>\n",
       "      <th>flag</th>\n",
       "      <th>user</th>\n",
       "      <th>text</th>\n",
       "    </tr>\n",
       "  </thead>\n",
       "  <tbody>\n",
       "    <tr>\n",
       "      <th>0</th>\n",
       "      <td>4</td>\n",
       "      <td>1467882425</td>\n",
       "      <td>Mon Apr 06 22:38:36 PDT 2009</td>\n",
       "      <td>NO_QUERY</td>\n",
       "      <td>Julia_xxoo</td>\n",
       "      <td>tafe quiz then PHOTOSHOOT with my sezdawg</td>\n",
       "    </tr>\n",
       "    <tr>\n",
       "      <th>1</th>\n",
       "      <td>4</td>\n",
       "      <td>1467937329</td>\n",
       "      <td>Mon Apr 06 22:53:54 PDT 2009</td>\n",
       "      <td>NO_QUERY</td>\n",
       "      <td>DeenaWilliams</td>\n",
       "      <td>@RyanStar  Hey Ryan, just thought I'd say that...</td>\n",
       "    </tr>\n",
       "    <tr>\n",
       "      <th>2</th>\n",
       "      <td>4</td>\n",
       "      <td>1468007072</td>\n",
       "      <td>Mon Apr 06 23:13:41 PDT 2009</td>\n",
       "      <td>NO_QUERY</td>\n",
       "      <td>pluggdin</td>\n",
       "      <td>@KesavaReddy  mba is good for learning tools/t...</td>\n",
       "    </tr>\n",
       "    <tr>\n",
       "      <th>3</th>\n",
       "      <td>4</td>\n",
       "      <td>1468145953</td>\n",
       "      <td>Mon Apr 06 23:58:07 PDT 2009</td>\n",
       "      <td>NO_QUERY</td>\n",
       "      <td>InYourEyes2410</td>\n",
       "      <td>@tommcfly haha morning then. i think (aussie h...</td>\n",
       "    </tr>\n",
       "    <tr>\n",
       "      <th>4</th>\n",
       "      <td>4</td>\n",
       "      <td>1468407270</td>\n",
       "      <td>Tue Apr 07 01:28:50 PDT 2009</td>\n",
       "      <td>NO_QUERY</td>\n",
       "      <td>Anjuli_nz</td>\n",
       "      <td>@Azlemed thats good</td>\n",
       "    </tr>\n",
       "    <tr>\n",
       "      <th>...</th>\n",
       "      <td>...</td>\n",
       "      <td>...</td>\n",
       "      <td>...</td>\n",
       "      <td>...</td>\n",
       "      <td>...</td>\n",
       "      <td>...</td>\n",
       "    </tr>\n",
       "    <tr>\n",
       "      <th>1595</th>\n",
       "      <td>0</td>\n",
       "      <td>2326752569</td>\n",
       "      <td>Thu Jun 25 07:27:54 PDT 2009</td>\n",
       "      <td>NO_QUERY</td>\n",
       "      <td>chrissymassey</td>\n",
       "      <td>i'm so tired!</td>\n",
       "    </tr>\n",
       "    <tr>\n",
       "      <th>1596</th>\n",
       "      <td>0</td>\n",
       "      <td>2327023853</td>\n",
       "      <td>Thu Jun 25 07:49:13 PDT 2009</td>\n",
       "      <td>NO_QUERY</td>\n",
       "      <td>brandedyouth</td>\n",
       "      <td>@ispeed72 I hear ya!</td>\n",
       "    </tr>\n",
       "    <tr>\n",
       "      <th>1597</th>\n",
       "      <td>0</td>\n",
       "      <td>2327447537</td>\n",
       "      <td>Thu Jun 25 08:21:32 PDT 2009</td>\n",
       "      <td>NO_QUERY</td>\n",
       "      <td>TA_Mobile</td>\n",
       "      <td>Almost of ICsid changed ... No more simple pro...</td>\n",
       "    </tr>\n",
       "    <tr>\n",
       "      <th>1598</th>\n",
       "      <td>0</td>\n",
       "      <td>2328250549</td>\n",
       "      <td>Thu Jun 25 09:21:07 PDT 2009</td>\n",
       "      <td>NO_QUERY</td>\n",
       "      <td>Omkaaraa</td>\n",
       "      <td>nobody joined my followers list today  ..</td>\n",
       "    </tr>\n",
       "    <tr>\n",
       "      <th>1599</th>\n",
       "      <td>0</td>\n",
       "      <td>2328351706</td>\n",
       "      <td>Thu Jun 25 09:28:35 PDT 2009</td>\n",
       "      <td>NO_QUERY</td>\n",
       "      <td>subq</td>\n",
       "      <td>@Time_Decay I don't think so either</td>\n",
       "    </tr>\n",
       "  </tbody>\n",
       "</table>\n",
       "<p>1600 rows × 6 columns</p>\n",
       "</div>"
      ],
      "text/plain": [
       "      target          id                          date      flag  \\\n",
       "0          4  1467882425  Mon Apr 06 22:38:36 PDT 2009  NO_QUERY   \n",
       "1          4  1467937329  Mon Apr 06 22:53:54 PDT 2009  NO_QUERY   \n",
       "2          4  1468007072  Mon Apr 06 23:13:41 PDT 2009  NO_QUERY   \n",
       "3          4  1468145953  Mon Apr 06 23:58:07 PDT 2009  NO_QUERY   \n",
       "4          4  1468407270  Tue Apr 07 01:28:50 PDT 2009  NO_QUERY   \n",
       "...      ...         ...                           ...       ...   \n",
       "1595       0  2326752569  Thu Jun 25 07:27:54 PDT 2009  NO_QUERY   \n",
       "1596       0  2327023853  Thu Jun 25 07:49:13 PDT 2009  NO_QUERY   \n",
       "1597       0  2327447537  Thu Jun 25 08:21:32 PDT 2009  NO_QUERY   \n",
       "1598       0  2328250549  Thu Jun 25 09:21:07 PDT 2009  NO_QUERY   \n",
       "1599       0  2328351706  Thu Jun 25 09:28:35 PDT 2009  NO_QUERY   \n",
       "\n",
       "                user                                               text  \n",
       "0         Julia_xxoo         tafe quiz then PHOTOSHOOT with my sezdawg   \n",
       "1      DeenaWilliams  @RyanStar  Hey Ryan, just thought I'd say that...  \n",
       "2           pluggdin  @KesavaReddy  mba is good for learning tools/t...  \n",
       "3     InYourEyes2410  @tommcfly haha morning then. i think (aussie h...  \n",
       "4          Anjuli_nz                               @Azlemed thats good   \n",
       "...              ...                                                ...  \n",
       "1595   chrissymassey                                     i'm so tired!   \n",
       "1596    brandedyouth                              @ispeed72 I hear ya!   \n",
       "1597       TA_Mobile  Almost of ICsid changed ... No more simple pro...  \n",
       "1598        Omkaaraa          nobody joined my followers list today  ..  \n",
       "1599            subq               @Time_Decay I don't think so either   \n",
       "\n",
       "[1600 rows x 6 columns]"
      ]
     },
     "execution_count": 4,
     "metadata": {},
     "output_type": "execute_result"
    }
   ],
   "source": [
    "commentData"
   ]
  },
  {
   "cell_type": "code",
   "execution_count": 5,
   "metadata": {},
   "outputs": [],
   "source": [
    "df = commentData"
   ]
  },
  {
   "cell_type": "code",
   "execution_count": 6,
   "metadata": {
    "scrolled": false
   },
   "outputs": [
    {
     "data": {
      "text/html": [
       "<div>\n",
       "<style scoped>\n",
       "    .dataframe tbody tr th:only-of-type {\n",
       "        vertical-align: middle;\n",
       "    }\n",
       "\n",
       "    .dataframe tbody tr th {\n",
       "        vertical-align: top;\n",
       "    }\n",
       "\n",
       "    .dataframe thead th {\n",
       "        text-align: right;\n",
       "    }\n",
       "</style>\n",
       "<table border=\"1\" class=\"dataframe\">\n",
       "  <thead>\n",
       "    <tr style=\"text-align: right;\">\n",
       "      <th></th>\n",
       "      <th>Sentiment</th>\n",
       "      <th>text</th>\n",
       "    </tr>\n",
       "  </thead>\n",
       "  <tbody>\n",
       "    <tr>\n",
       "      <th>0</th>\n",
       "      <td>4</td>\n",
       "      <td>tafe quiz then PHOTOSHOOT with my sezdawg</td>\n",
       "    </tr>\n",
       "    <tr>\n",
       "      <th>1</th>\n",
       "      <td>4</td>\n",
       "      <td>@RyanStar  Hey Ryan, just thought I'd say that...</td>\n",
       "    </tr>\n",
       "    <tr>\n",
       "      <th>2</th>\n",
       "      <td>4</td>\n",
       "      <td>@KesavaReddy  mba is good for learning tools/t...</td>\n",
       "    </tr>\n",
       "    <tr>\n",
       "      <th>3</th>\n",
       "      <td>4</td>\n",
       "      <td>@tommcfly haha morning then. i think (aussie h...</td>\n",
       "    </tr>\n",
       "    <tr>\n",
       "      <th>4</th>\n",
       "      <td>4</td>\n",
       "      <td>@Azlemed thats good</td>\n",
       "    </tr>\n",
       "    <tr>\n",
       "      <th>...</th>\n",
       "      <td>...</td>\n",
       "      <td>...</td>\n",
       "    </tr>\n",
       "    <tr>\n",
       "      <th>1595</th>\n",
       "      <td>0</td>\n",
       "      <td>i'm so tired!</td>\n",
       "    </tr>\n",
       "    <tr>\n",
       "      <th>1596</th>\n",
       "      <td>0</td>\n",
       "      <td>@ispeed72 I hear ya!</td>\n",
       "    </tr>\n",
       "    <tr>\n",
       "      <th>1597</th>\n",
       "      <td>0</td>\n",
       "      <td>Almost of ICsid changed ... No more simple pro...</td>\n",
       "    </tr>\n",
       "    <tr>\n",
       "      <th>1598</th>\n",
       "      <td>0</td>\n",
       "      <td>nobody joined my followers list today  ..</td>\n",
       "    </tr>\n",
       "    <tr>\n",
       "      <th>1599</th>\n",
       "      <td>0</td>\n",
       "      <td>@Time_Decay I don't think so either</td>\n",
       "    </tr>\n",
       "  </tbody>\n",
       "</table>\n",
       "<p>1600 rows × 2 columns</p>\n",
       "</div>"
      ],
      "text/plain": [
       "      Sentiment                                               text\n",
       "0             4         tafe quiz then PHOTOSHOOT with my sezdawg \n",
       "1             4  @RyanStar  Hey Ryan, just thought I'd say that...\n",
       "2             4  @KesavaReddy  mba is good for learning tools/t...\n",
       "3             4  @tommcfly haha morning then. i think (aussie h...\n",
       "4             4                               @Azlemed thats good \n",
       "...         ...                                                ...\n",
       "1595          0                                     i'm so tired! \n",
       "1596          0                              @ispeed72 I hear ya! \n",
       "1597          0  Almost of ICsid changed ... No more simple pro...\n",
       "1598          0          nobody joined my followers list today  ..\n",
       "1599          0               @Time_Decay I don't think so either \n",
       "\n",
       "[1600 rows x 2 columns]"
      ]
     },
     "execution_count": 6,
     "metadata": {},
     "output_type": "execute_result"
    }
   ],
   "source": [
    "train_df = df.drop([\"id\",\"date\",\"flag\",\"flag\",\"user\"], axis=1)\n",
    "train_df = train_df.rename(columns={\"target\": \"Sentiment\"})\n",
    "train_df"
   ]
  },
  {
   "cell_type": "code",
   "execution_count": 7,
   "metadata": {},
   "outputs": [],
   "source": [
    "import matplotlib.pyplot as plt\n",
    "import seaborn as sns\n",
    "import pylab as pl  "
   ]
  },
  {
   "cell_type": "code",
   "execution_count": 8,
   "metadata": {},
   "outputs": [],
   "source": [
    "train_df['Length'] = train_df['text'].apply(len)"
   ]
  },
  {
   "cell_type": "code",
   "execution_count": 9,
   "metadata": {},
   "outputs": [
    {
     "data": {
      "text/plain": [
       "<AxesSubplot:ylabel='Frequency'>"
      ]
     },
     "execution_count": 9,
     "metadata": {},
     "output_type": "execute_result"
    },
    {
     "data": {
      "image/png": "[encoded data removed]",
      "text/plain": [
       "<Figure size 432x288 with 1 Axes>"
      ]
     },
     "metadata": {
      "needs_background": "light"
     },
     "output_type": "display_data"
    }
   ],
   "source": [
    "train_df['Length'].plot(kind = 'hist' , bins = 50) "
   ]
  },
  {
   "cell_type": "code",
   "execution_count": 10,
   "metadata": {},
   "outputs": [
    {
     "data": {
      "text/plain": [
       "Text(0.5, 0.98, 'Length via each Sentiment')"
      ]
     },
     "execution_count": 10,
     "metadata": {},
     "output_type": "execute_result"
    },
    {
     "data": {
      "image/png": "[encoded data removed]",
      "text/plain": [
       "<Figure size 720x360 with 2 Axes>"
      ]
     },
     "metadata": {
      "needs_background": "light"
     },
     "output_type": "display_data"
    }
   ],
   "source": [
    "ax = train_df.hist(column = 'Length', by = 'Sentiment', bins = 50 , figsize = (10,5));\n",
    "pl.suptitle('Length via each Sentiment') "
   ]
  },
  {
   "cell_type": "code",
   "execution_count": 11,
   "metadata": {},
   "outputs": [
    {
     "name": "stderr",
     "output_type": "stream",
     "text": [
      "[nltk_data] Downloading package punkt to\n",
      "[nltk_data]     C:\\Users\\jcrro\\AppData\\Roaming\\nltk_data...\n",
      "[nltk_data]   Package punkt is already up-to-date!\n",
      "[nltk_data] Downloading package wordnet to\n",
      "[nltk_data]     C:\\Users\\jcrro\\AppData\\Roaming\\nltk_data...\n",
      "[nltk_data]   Package wordnet is already up-to-date!\n",
      "[nltk_data] Downloading package stopwords to\n",
      "[nltk_data]     C:\\Users\\jcrro\\AppData\\Roaming\\nltk_data...\n",
      "[nltk_data]   Package stopwords is already up-to-date!\n"
     ]
    }
   ],
   "source": [
    "import nltk\n",
    "nltk.download('punkt')\n",
    "nltk.download('wordnet')\n",
    "nltk.download('stopwords')\n",
    "from nltk import sent_tokenize, word_tokenize\n",
    "from nltk.stem import PorterStemmer\n",
    "from nltk.stem.snowball import SnowballStemmer\n",
    "from nltk.stem.wordnet import WordNetLemmatizer\n",
    "from nltk.corpus import stopwords\n",
    "import pandas as pd\n",
    "import numpy as np\n",
    "import re \n",
    "stemming = PorterStemmer()\n",
    "Lemmatizer = WordNetLemmatizer()\n",
    "stops = set(stopwords.words(\"english\"))\n",
    "stops2 = set(stopwords.words(\"french\"))"
   ]
  },
  {
   "cell_type": "code",
   "execution_count": 12,
   "metadata": {},
   "outputs": [],
   "source": [
    "\n",
    "def clean_str(x):\n",
    "    \n",
    "    x = str(x)\n",
    "   \n",
    "    # Convert to lower case\n",
    "    text = x.lower()\n",
    "    \n",
    "    # Tokenize\n",
    "    tokens = nltk.word_tokenize(text)\n",
    "    \n",
    "    # Keep only words (removes punctuation + numbers)\n",
    "    # use .isalnum to keep also numbers\n",
    "    token_words = [w for w in tokens if w.isalpha()]\n",
    "    \n",
    "    # Stemming\n",
    "    stemmed_words = [stemming.stem(w) for w in token_words]\n",
    "\n",
    "    # lemmatizer    \n",
    "    #lemmatizer_words = [Lemmatizer.lemmatize(w) for w in token_words]\n",
    "    \n",
    "    # Remove stop words\n",
    "    meaningful_words = [w for w in token_words if not w in stops]\n",
    "    \n",
    "    # Remove stop words\n",
    "    meaningful_words2 = [w for w in meaningful_words if not w in stops2]   \n",
    "    \n",
    "    # Rejoin meaningful stemmed words\n",
    "    joined_words = ( \" \".join(meaningful_words2))\n",
    "\n",
    "    \n",
    "    # Return cleaned data\n",
    "    return joined_words\n",
    "\n",
    "\n",
    "train_df['text'] = train_df['text'].apply(clean_str)"
   ]
  },
  {
   "cell_type": "code",
   "execution_count": 13,
   "metadata": {
    "scrolled": false
   },
   "outputs": [
    {
     "data": {
      "text/html": [
       "<div>\n",
       "<style scoped>\n",
       "    .dataframe tbody tr th:only-of-type {\n",
       "        vertical-align: middle;\n",
       "    }\n",
       "\n",
       "    .dataframe tbody tr th {\n",
       "        vertical-align: top;\n",
       "    }\n",
       "\n",
       "    .dataframe thead th {\n",
       "        text-align: right;\n",
       "    }\n",
       "</style>\n",
       "<table border=\"1\" class=\"dataframe\">\n",
       "  <thead>\n",
       "    <tr style=\"text-align: right;\">\n",
       "      <th></th>\n",
       "      <th>Sentiment</th>\n",
       "      <th>text</th>\n",
       "      <th>Length</th>\n",
       "    </tr>\n",
       "  </thead>\n",
       "  <tbody>\n",
       "    <tr>\n",
       "      <th>0</th>\n",
       "      <td>4</td>\n",
       "      <td>tafe quiz photoshoot sezdawg</td>\n",
       "      <td>42</td>\n",
       "    </tr>\n",
       "    <tr>\n",
       "      <th>1</th>\n",
       "      <td>4</td>\n",
       "      <td>ryanstar hey ryan thought say u put great show...</td>\n",
       "      <td>131</td>\n",
       "    </tr>\n",
       "    <tr>\n",
       "      <th>2</th>\n",
       "      <td>4</td>\n",
       "      <td>kesavareddy mba good learning one start taking...</td>\n",
       "      <td>110</td>\n",
       "    </tr>\n",
       "    <tr>\n",
       "      <th>3</th>\n",
       "      <td>4</td>\n",
       "      <td>tommcfly haha morning think aussie wheat bix h...</td>\n",
       "      <td>98</td>\n",
       "    </tr>\n",
       "    <tr>\n",
       "      <th>4</th>\n",
       "      <td>4</td>\n",
       "      <td>azlemed thats good</td>\n",
       "      <td>20</td>\n",
       "    </tr>\n",
       "    <tr>\n",
       "      <th>...</th>\n",
       "      <td>...</td>\n",
       "      <td>...</td>\n",
       "      <td>...</td>\n",
       "    </tr>\n",
       "    <tr>\n",
       "      <th>1595</th>\n",
       "      <td>0</td>\n",
       "      <td>tired</td>\n",
       "      <td>14</td>\n",
       "    </tr>\n",
       "    <tr>\n",
       "      <th>1596</th>\n",
       "      <td>0</td>\n",
       "      <td>hear ya</td>\n",
       "      <td>21</td>\n",
       "    </tr>\n",
       "    <tr>\n",
       "      <th>1597</th>\n",
       "      <td>0</td>\n",
       "      <td>almost icsid changed simple programmers</td>\n",
       "      <td>55</td>\n",
       "    </tr>\n",
       "    <tr>\n",
       "      <th>1598</th>\n",
       "      <td>0</td>\n",
       "      <td>nobody joined followers list today</td>\n",
       "      <td>41</td>\n",
       "    </tr>\n",
       "    <tr>\n",
       "      <th>1599</th>\n",
       "      <td>0</td>\n",
       "      <td>think either</td>\n",
       "      <td>36</td>\n",
       "    </tr>\n",
       "  </tbody>\n",
       "</table>\n",
       "<p>1600 rows × 3 columns</p>\n",
       "</div>"
      ],
      "text/plain": [
       "      Sentiment                                               text  Length\n",
       "0             4                       tafe quiz photoshoot sezdawg      42\n",
       "1             4  ryanstar hey ryan thought say u put great show...     131\n",
       "2             4  kesavareddy mba good learning one start taking...     110\n",
       "3             4  tommcfly haha morning think aussie wheat bix h...      98\n",
       "4             4                                 azlemed thats good      20\n",
       "...         ...                                                ...     ...\n",
       "1595          0                                              tired      14\n",
       "1596          0                                            hear ya      21\n",
       "1597          0            almost icsid changed simple programmers      55\n",
       "1598          0                 nobody joined followers list today      41\n",
       "1599          0                                       think either      36\n",
       "\n",
       "[1600 rows x 3 columns]"
      ]
     },
     "execution_count": 13,
     "metadata": {},
     "output_type": "execute_result"
    }
   ],
   "source": [
    "train_df"
   ]
  },
  {
   "cell_type": "code",
   "execution_count": 14,
   "metadata": {
    "scrolled": true
   },
   "outputs": [
    {
     "name": "stdout",
     "output_type": "stream",
     "text": [
      "      Sentiment                                               text  Length\n",
      "0             4                       tafe quiz photoshoot sezdawg      42\n",
      "1             4  ryanstar hey ryan thought say u put great show...     131\n",
      "2             4  kesavareddy mba good learning one start taking...     110\n",
      "3             4  tommcfly haha morning think aussie wheat bix h...      98\n",
      "4             4                                 azlemed thats good      20\n",
      "...         ...                                                ...     ...\n",
      "1595          0                                              tired      14\n",
      "1596          0                                            hear ya      21\n",
      "1597          0            almost icsid changed simple programmers      55\n",
      "1598          0                 nobody joined followers list today      41\n",
      "1599          0                                       think either      36\n",
      "\n",
      "[1600 rows x 3 columns]\n"
     ]
    }
   ],
   "source": [
    "print(train_df)"
   ]
  },
  {
   "cell_type": "code",
   "execution_count": 15,
   "metadata": {},
   "outputs": [
    {
     "data": {
      "text/html": [
       "<div>\n",
       "<style scoped>\n",
       "    .dataframe tbody tr th:only-of-type {\n",
       "        vertical-align: middle;\n",
       "    }\n",
       "\n",
       "    .dataframe tbody tr th {\n",
       "        vertical-align: top;\n",
       "    }\n",
       "\n",
       "    .dataframe thead th {\n",
       "        text-align: right;\n",
       "    }\n",
       "</style>\n",
       "<table border=\"1\" class=\"dataframe\">\n",
       "  <thead>\n",
       "    <tr style=\"text-align: right;\">\n",
       "      <th></th>\n",
       "      <th>Sentiment</th>\n",
       "      <th>text</th>\n",
       "      <th>Length</th>\n",
       "    </tr>\n",
       "  </thead>\n",
       "  <tbody>\n",
       "    <tr>\n",
       "      <th>0</th>\n",
       "      <td>4</td>\n",
       "      <td>tafe quiz photoshoot sezdawg</td>\n",
       "      <td>42</td>\n",
       "    </tr>\n",
       "    <tr>\n",
       "      <th>1</th>\n",
       "      <td>4</td>\n",
       "      <td>ryanstar hey ryan thought say u put great show...</td>\n",
       "      <td>131</td>\n",
       "    </tr>\n",
       "    <tr>\n",
       "      <th>2</th>\n",
       "      <td>4</td>\n",
       "      <td>kesavareddy mba good learning one start taking...</td>\n",
       "      <td>110</td>\n",
       "    </tr>\n",
       "    <tr>\n",
       "      <th>3</th>\n",
       "      <td>4</td>\n",
       "      <td>tommcfly haha morning think aussie wheat bix h...</td>\n",
       "      <td>98</td>\n",
       "    </tr>\n",
       "    <tr>\n",
       "      <th>4</th>\n",
       "      <td>4</td>\n",
       "      <td>azlemed thats good</td>\n",
       "      <td>20</td>\n",
       "    </tr>\n",
       "    <tr>\n",
       "      <th>...</th>\n",
       "      <td>...</td>\n",
       "      <td>...</td>\n",
       "      <td>...</td>\n",
       "    </tr>\n",
       "    <tr>\n",
       "      <th>1595</th>\n",
       "      <td>0</td>\n",
       "      <td>tired</td>\n",
       "      <td>14</td>\n",
       "    </tr>\n",
       "    <tr>\n",
       "      <th>1596</th>\n",
       "      <td>0</td>\n",
       "      <td>hear ya</td>\n",
       "      <td>21</td>\n",
       "    </tr>\n",
       "    <tr>\n",
       "      <th>1597</th>\n",
       "      <td>0</td>\n",
       "      <td>almost icsid changed simple programmers</td>\n",
       "      <td>55</td>\n",
       "    </tr>\n",
       "    <tr>\n",
       "      <th>1598</th>\n",
       "      <td>0</td>\n",
       "      <td>nobody joined followers list today</td>\n",
       "      <td>41</td>\n",
       "    </tr>\n",
       "    <tr>\n",
       "      <th>1599</th>\n",
       "      <td>0</td>\n",
       "      <td>think either</td>\n",
       "      <td>36</td>\n",
       "    </tr>\n",
       "  </tbody>\n",
       "</table>\n",
       "<p>1600 rows × 3 columns</p>\n",
       "</div>"
      ],
      "text/plain": [
       "      Sentiment                                               text  Length\n",
       "0             4                       tafe quiz photoshoot sezdawg      42\n",
       "1             4  ryanstar hey ryan thought say u put great show...     131\n",
       "2             4  kesavareddy mba good learning one start taking...     110\n",
       "3             4  tommcfly haha morning think aussie wheat bix h...      98\n",
       "4             4                                 azlemed thats good      20\n",
       "...         ...                                                ...     ...\n",
       "1595          0                                              tired      14\n",
       "1596          0                                            hear ya      21\n",
       "1597          0            almost icsid changed simple programmers      55\n",
       "1598          0                 nobody joined followers list today      41\n",
       "1599          0                                       think either      36\n",
       "\n",
       "[1600 rows x 3 columns]"
      ]
     },
     "execution_count": 15,
     "metadata": {},
     "output_type": "execute_result"
    }
   ],
   "source": [
    "df = train_df\n",
    "df"
   ]
  },
  {
   "cell_type": "code",
   "execution_count": 16,
   "metadata": {},
   "outputs": [],
   "source": [
    "df_0 = df[df['Sentiment'] == 0].sample(frac=1)\n",
    "df_4 = df[df['Sentiment'] == 4].sample(frac=1)\n",
    "\n",
    "# we want a balanced set for training against - there are 7072 `0` examples\n",
    "sample_size = min(len(df_0), len(df_4))\n",
    "\n",
    "data = pd.concat([df_0.head(sample_size), df_4.head(sample_size)]).sample(frac=1)"
   ]
  },
  {
   "cell_type": "code",
   "execution_count": 17,
   "metadata": {
    "scrolled": true
   },
   "outputs": [
    {
     "data": {
      "text/plain": [
       "<AxesSubplot:xlabel='Sentiment', ylabel='count'>"
      ]
     },
     "execution_count": 17,
     "metadata": {},
     "output_type": "execute_result"
    },
    {
     "data": {
      "image/png": "[encoded data removed]",
      "text/plain": [
       "<Figure size 432x288 with 1 Axes>"
      ]
     },
     "metadata": {
      "needs_background": "light"
     },
     "output_type": "display_data"
    }
   ],
   "source": [
    "import seaborn as sns\n",
    "\n",
    "sns.countplot(x='Sentiment', data=data)"
   ]
  },
  {
   "cell_type": "code",
   "execution_count": 18,
   "metadata": {},
   "outputs": [],
   "source": [
    "sentences = data['text']"
   ]
  },
  {
   "cell_type": "code",
   "execution_count": 19,
   "metadata": {
    "scrolled": true
   },
   "outputs": [
    {
     "data": {
      "text/plain": [
       "'tafe quiz photoshoot sezdawg'"
      ]
     },
     "execution_count": 19,
     "metadata": {},
     "output_type": "execute_result"
    }
   ],
   "source": [
    "sentences[0]"
   ]
  },
  {
   "cell_type": "code",
   "execution_count": 20,
   "metadata": {},
   "outputs": [],
   "source": [
    "tokenizer = Tokenizer(num_words = 4000)\n",
    "tokenizer.fit_on_texts(sentences)\n",
    "sequence = tokenizer.texts_to_sequences(sentences)"
   ]
  },
  {
   "cell_type": "code",
   "execution_count": 21,
   "metadata": {
    "scrolled": true
   },
   "outputs": [
    {
     "name": "stdout",
     "output_type": "stream",
     "text": [
      "4412\n"
     ]
    }
   ],
   "source": [
    "index_of_words = tokenizer.word_index\n",
    "print(len(index_of_words))"
   ]
  },
  {
   "cell_type": "code",
   "execution_count": 22,
   "metadata": {},
   "outputs": [],
   "source": [
    "embed_num_dims = 100\n",
    "max_seq_len = 1000"
   ]
  },
  {
   "cell_type": "code",
   "execution_count": 23,
   "metadata": {},
   "outputs": [],
   "source": [
    "padded_seq = pad_sequences(sequence , maxlen = max_seq_len )"
   ]
  },
  {
   "cell_type": "code",
   "execution_count": 24,
   "metadata": {},
   "outputs": [
    {
     "data": {
      "text/plain": [
       "array([[   0,    0,    0, ...,  786,  787,  245],\n",
       "       [   0,    0,    0, ...,   22,  788, 1293],\n",
       "       [   0,    0,    0, ...,    6,  570,  193],\n",
       "       ...,\n",
       "       [   0,    0,    0, ...,   38,   88,    4],\n",
       "       [   0,    0,    0, ..., 1277, 1187,   11],\n",
       "       [   0,    0,    0, ...,   23,   28,  215]])"
      ]
     },
     "execution_count": 24,
     "metadata": {},
     "output_type": "execute_result"
    }
   ],
   "source": [
    "padded_seq"
   ]
  },
  {
   "cell_type": "code",
   "execution_count": 25,
   "metadata": {},
   "outputs": [],
   "source": [
    "Y = pd.get_dummies(data['Sentiment']).values"
   ]
  },
  {
   "cell_type": "code",
   "execution_count": 26,
   "metadata": {},
   "outputs": [
    {
     "data": {
      "text/plain": [
       "array([[0, 1],\n",
       "       [0, 1],\n",
       "       [1, 0],\n",
       "       ...,\n",
       "       [0, 1],\n",
       "       [1, 0],\n",
       "       [0, 1]], dtype=uint8)"
      ]
     },
     "execution_count": 26,
     "metadata": {},
     "output_type": "execute_result"
    }
   ],
   "source": [
    "Y"
   ]
  },
  {
   "cell_type": "code",
   "execution_count": 27,
   "metadata": {},
   "outputs": [],
   "source": [
    "from keras.utils import to_categorical\n"
   ]
  },
  {
   "cell_type": "code",
   "execution_count": 28,
   "metadata": {},
   "outputs": [],
   "source": [
    "from sklearn.model_selection import train_test_split\n",
    "\n",
    "X_train,X_test,Y_train,Y_test = train_test_split(padded_seq,Y ,train_size = 0.55)"
   ]
  },
  {
   "cell_type": "code",
   "execution_count": 29,
   "metadata": {},
   "outputs": [
    {
     "data": {
      "text/plain": [
       "(880, 2)"
      ]
     },
     "execution_count": 29,
     "metadata": {},
     "output_type": "execute_result"
    }
   ],
   "source": [
    "Y_train.shape"
   ]
  },
  {
   "cell_type": "markdown",
   "metadata": {},
   "source": [
    "### Glove "
   ]
  },
  {
   "cell_type": "code",
   "execution_count": 30,
   "metadata": {},
   "outputs": [
    {
     "name": "stdout",
     "output_type": "stream",
     "text": [
      "Found 400001 word vectors.\n"
     ]
    }
   ],
   "source": [
    "f = open('glove.6B.100d.txt', encoding=\"utf8\")\n",
    "embedd_index = {}\n",
    "for line in f:\n",
    "    val = line.split()\n",
    "    word = val[0]\n",
    "    coff = np.asarray(val[1:],dtype = 'float')\n",
    "    embedd_index[word] = coff\n",
    "\n",
    "f.close()\n",
    "print('Found %s word vectors.' % len(embedd_index))"
   ]
  },
  {
   "cell_type": "code",
   "execution_count": 31,
   "metadata": {},
   "outputs": [
    {
     "data": {
      "text/plain": [
       "array([ 0.39456  , -0.24717  ,  1.0319   , -0.61444  , -1.2376   ,\n",
       "        0.051794 , -0.55112  , -0.31014  , -0.025735 , -0.24709  ,\n",
       "        0.25836  ,  0.34899  ,  0.46176  ,  0.44237  ,  0.354    ,\n",
       "        0.21262  , -0.26312  , -0.17128  ,  0.44013  ,  1.1284   ,\n",
       "        0.37259  ,  0.41969  , -0.2534   , -0.051885 , -0.34917  ,\n",
       "        0.15298  , -0.68444  , -0.19514  , -0.018647 ,  0.084191 ,\n",
       "        0.14569  ,  0.3869   ,  0.023524 , -0.37861  , -0.65081  ,\n",
       "        0.010398 , -0.50087  , -0.087368 ,  0.098617 , -0.21907  ,\n",
       "       -0.072412 , -0.10247  , -0.3148   , -0.307    , -0.30457  ,\n",
       "       -0.14329  ,  0.10313  , -0.040487 , -0.095922 , -1.192    ,\n",
       "       -0.063356 ,  0.034127 , -0.057674 ,  0.56582  ,  0.082541 ,\n",
       "       -2.4617   ,  0.48029  ,  0.72806  ,  1.2841   ,  0.10672  ,\n",
       "       -0.045119 ,  1.0117   , -0.97928  ,  0.022828 ,  0.46876  ,\n",
       "       -0.026875 ,  0.80018  , -0.23101  ,  0.086699 , -0.74338  ,\n",
       "       -0.38738  , -0.1924   , -0.13292  ,  0.52347  ,  0.35659  ,\n",
       "        0.21065  , -0.18669  ,  0.41563  , -0.50874  ,  0.47643  ,\n",
       "        0.78591  ,  0.28015  , -0.74565  , -0.015569 , -1.8451   ,\n",
       "       -0.28427  , -0.81722  , -0.43254  , -0.60031  , -0.40052  ,\n",
       "       -0.26612  , -0.05855  , -0.2051   ,  0.16208  , -0.25305  ,\n",
       "        0.48163  , -0.15905  ,  0.0064973,  0.13793  , -0.06832  ])"
      ]
     },
     "execution_count": 31,
     "metadata": {},
     "output_type": "execute_result"
    }
   ],
   "source": [
    "embedd_index['bad']"
   ]
  },
  {
   "cell_type": "code",
   "execution_count": 32,
   "metadata": {},
   "outputs": [],
   "source": [
    "embedding_matrix = np.zeros((len(index_of_words) + 1, embed_num_dims))\n",
    "\n",
    "tokens = []\n",
    "labels = []\n",
    "\n",
    "for word,i in index_of_words.items():\n",
    "    temp = embedd_index.get(word)\n",
    "    if temp is not None:\n",
    "        embedding_matrix[i] = temp\n",
    "        \n",
    "#for plotting\n",
    "        tokens.append(embedding_matrix[i])\n",
    "        labels.append(word)"
   ]
  },
  {
   "cell_type": "code",
   "execution_count": 33,
   "metadata": {},
   "outputs": [
    {
     "data": {
      "text/plain": [
       "(4413, 100)"
      ]
     },
     "execution_count": 33,
     "metadata": {},
     "output_type": "execute_result"
    }
   ],
   "source": [
    "embedding_matrix.shape"
   ]
  },
  {
   "cell_type": "code",
   "execution_count": 34,
   "metadata": {},
   "outputs": [
    {
     "name": "stdout",
     "output_type": "stream",
     "text": [
      "(200, 2)\n"
     ]
    },
    {
     "data": {
      "image/png": "[encoded data removed]",
      "text/plain": [
       "<Figure size 1152x1152 with 1 Axes>"
      ]
     },
     "metadata": {
      "needs_background": "light"
     },
     "output_type": "display_data"
    }
   ],
   "source": [
    "from sklearn.manifold import TSNE\n",
    "#TSNE algorithm used to visualize word embeddings having huge amount (100) dimensions\n",
    "\n",
    "def tsne():\n",
    "    \n",
    "    tsne_model = TSNE(perplexity=40, n_components=2, init='pca', n_iter=2500, random_state=23)\n",
    "    new_values = tsne_model.fit_transform(tokens[:200])\n",
    "    print(new_values.shape)\n",
    "    \n",
    "    x = []\n",
    "    y = []\n",
    "    for value in new_values:\n",
    "        x.append(value[0])\n",
    "        y.append(value[1])\n",
    "        \n",
    "    plt.figure(figsize=(16,16)) \n",
    "    for i in range(len(x)):\n",
    "        plt.scatter(x[i],y[i])\n",
    "        plt.annotate(labels[i],\n",
    "                     xy=(x[i], y[i]),\n",
    "                     xytext=(5, 2),\n",
    "                     textcoords='offset points',\n",
    "                     ha='right',\n",
    "                     va='bottom')\n",
    "    plt.show()\n",
    "tsne()"
   ]
  },
  {
   "cell_type": "code",
   "execution_count": 35,
   "metadata": {},
   "outputs": [],
   "source": [
    "#Embedding layer before the actaul BLSTM \n",
    "embedd_layer = Embedding(len(index_of_words) + 1 , embed_num_dims , input_length = max_seq_len , weights = [embedding_matrix])"
   ]
  },
  {
   "cell_type": "markdown",
   "metadata": {},
   "source": [
    "## LSTM avec GLOVE "
   ]
  },
  {
   "cell_type": "code",
   "execution_count": 36,
   "metadata": {},
   "outputs": [],
   "source": [
    "model = Sequential([\n",
    "    Embedding(input_dim =embedding_matrix.shape[0], input_length=1000, output_dim=embedding_matrix.shape[1],weights=[embedding_matrix], trainable=False),\n",
    "    SpatialDropout1D(0.5),\n",
    "    #Bidirectional layer will enable our model to predict a missing word in a sequence, \n",
    "    #So, using this feature will enable the model to look at the context on both the left and the right.\n",
    "    LSTM(25, return_sequences=True),\n",
    "    #**batch normalization layer** normalizes the activations of the previous layer at each batch, \n",
    "    #i.e. applies a transformation that maintains the mean activation close to 0 and the activation standard deviation close to 1. \n",
    "    BatchNormalization(),\n",
    "    Dropout(0.5),\n",
    "    GlobalMaxPool1D(),\n",
    "    Dense(50, activation = 'relu'),\n",
    "    Dense(2, activation = 'sigmoid')\n",
    "])\n",
    "\n"
   ]
  },
  {
   "cell_type": "code",
   "execution_count": 37,
   "metadata": {
    "scrolled": true
   },
   "outputs": [
    {
     "name": "stdout",
     "output_type": "stream",
     "text": [
      "Model: \"sequential_1\"\n",
      "_________________________________________________________________\n",
      "Layer (type)                 Output Shape              Param #   \n",
      "=================================================================\n",
      "embedding_2 (Embedding)      (None, 1000, 100)         441300    \n",
      "_________________________________________________________________\n",
      "spatial_dropout1d_1 (Spatial (None, 1000, 100)         0         \n",
      "_________________________________________________________________\n",
      "lstm_1 (LSTM)                (None, 1000, 25)          12600     \n",
      "_________________________________________________________________\n",
      "batch_normalization_1 (Batch (None, 1000, 25)          100       \n",
      "_________________________________________________________________\n",
      "dropout_1 (Dropout)          (None, 1000, 25)          0         \n",
      "_________________________________________________________________\n",
      "global_max_pooling1d_1 (Glob (None, 25)                0         \n",
      "_________________________________________________________________\n",
      "dense_1 (Dense)              (None, 50)                1300      \n",
      "_________________________________________________________________\n",
      "dense_2 (Dense)              (None, 2)                 102       \n",
      "=================================================================\n",
      "Total params: 455,402\n",
      "Trainable params: 14,052\n",
      "Non-trainable params: 441,350\n",
      "_________________________________________________________________\n"
     ]
    }
   ],
   "source": [
    "model.summary()"
   ]
  },
  {
   "cell_type": "code",
   "execution_count": 38,
   "metadata": {},
   "outputs": [],
   "source": [
    "from keras.optimizers import Adam\n",
    "add = Adam(lr = 0.01)\n",
    "model.compile(loss = 'categorical_crossentropy' , optimizer = add , metrics = ['accuracy'])"
   ]
  },
  {
   "cell_type": "code",
   "execution_count": 39,
   "metadata": {},
   "outputs": [
    {
     "name": "stdout",
     "output_type": "stream",
     "text": [
      "WARNING:tensorflow:From C:\\Users\\jcrro\\anaconda3\\envs\\EnvP7\\lib\\site-packages\\tensorflow\\python\\ops\\math_grad.py:1250: add_dispatch_support.<locals>.wrapper (from tensorflow.python.ops.array_ops) is deprecated and will be removed in a future version.\n",
      "Instructions for updating:\n",
      "Use tf.where in 2.0, which has the same broadcast rule as np.where\n",
      "WARNING:tensorflow:From C:\\Users\\jcrro\\anaconda3\\envs\\EnvP7\\lib\\site-packages\\keras\\backend\\tensorflow_backend.py:422: The name tf.global_variables is deprecated. Please use tf.compat.v1.global_variables instead.\n",
      "\n",
      "Train on 880 samples, validate on 720 samples\n",
      "Epoch 1/5\n",
      "880/880 [==============================] - 5s 6ms/step - loss: 1.4986 - accuracy: 0.5080 - val_loss: 0.6932 - val_accuracy: 0.5042\n",
      "Epoch 2/5\n",
      "880/880 [==============================] - 5s 5ms/step - loss: 0.6931 - accuracy: 0.5148 - val_loss: 0.6941 - val_accuracy: 0.5042\n",
      "Epoch 3/5\n",
      "880/880 [==============================] - 5s 5ms/step - loss: 0.6931 - accuracy: 0.5057 - val_loss: 0.6942 - val_accuracy: 0.5042\n",
      "Epoch 4/5\n",
      "880/880 [==============================] - 5s 5ms/step - loss: 0.6931 - accuracy: 0.5102 - val_loss: 0.6942 - val_accuracy: 0.5042\n",
      "Epoch 5/5\n",
      "880/880 [==============================] - 5s 5ms/step - loss: 0.6931 - accuracy: 0.5136 - val_loss: 0.6941 - val_accuracy: 0.5042\n"
     ]
    }
   ],
   "source": [
    "hist = model.fit(X_train,Y_train,epochs = 5 , batch_size = 100, validation_data = (X_test,Y_test))"
   ]
  },
  {
   "cell_type": "code",
   "execution_count": 40,
   "metadata": {},
   "outputs": [
    {
     "name": "stdout",
     "output_type": "stream",
     "text": [
      "Accuracy: 50.42%\n"
     ]
    }
   ],
   "source": [
    "result = model.evaluate(X_test,Y_test, verbose=0)\n",
    "print(\"Accuracy: %.2f%%\" % (result[1] * 100))"
   ]
  },
  {
   "cell_type": "code",
   "execution_count": 41,
   "metadata": {},
   "outputs": [
    {
     "data": {
      "image/png": "[encoded data removed]",
      "text/plain": [
       "<Figure size 432x288 with 1 Axes>"
      ]
     },
     "metadata": {
      "needs_background": "light"
     },
     "output_type": "display_data"
    },
    {
     "data": {
      "image/png": "[encoded data removed]",
      "text/plain": [
       "<Figure size 432x288 with 1 Axes>"
      ]
     },
     "metadata": {
      "needs_background": "light"
     },
     "output_type": "display_data"
    }
   ],
   "source": [
    "plt.plot(hist.history['accuracy'])\n",
    "plt.plot(hist.history['val_accuracy'])\n",
    "plt.title('model accuracy')\n",
    "plt.ylabel('accuracy')\n",
    "plt.xlabel('epoch')\n",
    "plt.legend(['train', 'validation'], loc='upper left')\n",
    "plt.show()\n",
    "\n",
    "plt.plot(hist.history['loss'])\n",
    "plt.plot(hist.history['val_loss'])\n",
    "plt.title('model loss')\n",
    "plt.ylabel('loss')\n",
    "plt.xlabel('epoch')\n",
    "plt.legend(['train', 'validation'], loc='upper left')\n",
    "plt.show()"
   ]
  },
  {
   "cell_type": "code",
   "execution_count": null,
   "metadata": {},
   "outputs": [],
   "source": []
  }
 ],
 "metadata": {
  "celltoolbar": "Aucun(e)",
  "kernelspec": {
   "display_name": "Python 3",
   "language": "python",
   "name": "python3"
  },
  "language_info": {
   "codemirror_mode": {
    "name": "ipython",
    "version": 3
   },
   "file_extension": ".py",
   "mimetype": "text/x-python",
   "name": "python",
   "nbconvert_exporter": "python",
   "pygments_lexer": "ipython3",
   "version": "3.6.12"
  }
 },
 "nbformat": 4,
 "nbformat_minor": 4
}
