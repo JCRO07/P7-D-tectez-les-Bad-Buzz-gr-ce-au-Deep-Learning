{
 "cells": [
  {
   "cell_type": "code",
   "execution_count": 1,
   "metadata": {},
   "outputs": [],
   "source": [
    "from urllib import request\n",
    "import pandas as pd\n",
    "import numpy as np\n",
    "import scipy.stats as st\n",
    "import matplotlib.pyplot as plt\n",
    "import seaborn as sns\n",
    "import re\n",
    "from sklearn import decomposition\n",
    "from sklearn import preprocessing\n",
    "sns.set()\n",
    "# Python program to read \n",
    "# json file \n",
    " \n",
    "import json "
   ]
  },
  {
   "cell_type": "code",
   "execution_count": 2,
   "metadata": {},
   "outputs": [
    {
     "name": "stderr",
     "output_type": "stream",
     "text": [
      "Using TensorFlow backend.\n",
      "C:\\Users\\jcrro\\anaconda3\\envs\\EnvP7\\lib\\site-packages\\tensorflow\\python\\framework\\dtypes.py:516: FutureWarning: Passing (type, 1) or '1type' as a synonym of type is deprecated; in a future version of numpy, it will be understood as (type, (1,)) / '(1,)type'.\n",
      "  _np_qint8 = np.dtype([(\"qint8\", np.int8, 1)])\n",
      "C:\\Users\\jcrro\\anaconda3\\envs\\EnvP7\\lib\\site-packages\\tensorflow\\python\\framework\\dtypes.py:517: FutureWarning: Passing (type, 1) or '1type' as a synonym of type is deprecated; in a future version of numpy, it will be understood as (type, (1,)) / '(1,)type'.\n",
      "  _np_quint8 = np.dtype([(\"quint8\", np.uint8, 1)])\n",
      "C:\\Users\\jcrro\\anaconda3\\envs\\EnvP7\\lib\\site-packages\\tensorflow\\python\\framework\\dtypes.py:518: FutureWarning: Passing (type, 1) or '1type' as a synonym of type is deprecated; in a future version of numpy, it will be understood as (type, (1,)) / '(1,)type'.\n",
      "  _np_qint16 = np.dtype([(\"qint16\", np.int16, 1)])\n",
      "C:\\Users\\jcrro\\anaconda3\\envs\\EnvP7\\lib\\site-packages\\tensorflow\\python\\framework\\dtypes.py:519: FutureWarning: Passing (type, 1) or '1type' as a synonym of type is deprecated; in a future version of numpy, it will be understood as (type, (1,)) / '(1,)type'.\n",
      "  _np_quint16 = np.dtype([(\"quint16\", np.uint16, 1)])\n",
      "C:\\Users\\jcrro\\anaconda3\\envs\\EnvP7\\lib\\site-packages\\tensorflow\\python\\framework\\dtypes.py:520: FutureWarning: Passing (type, 1) or '1type' as a synonym of type is deprecated; in a future version of numpy, it will be understood as (type, (1,)) / '(1,)type'.\n",
      "  _np_qint32 = np.dtype([(\"qint32\", np.int32, 1)])\n",
      "C:\\Users\\jcrro\\anaconda3\\envs\\EnvP7\\lib\\site-packages\\tensorflow\\python\\framework\\dtypes.py:525: FutureWarning: Passing (type, 1) or '1type' as a synonym of type is deprecated; in a future version of numpy, it will be understood as (type, (1,)) / '(1,)type'.\n",
      "  np_resource = np.dtype([(\"resource\", np.ubyte, 1)])\n",
      "C:\\Users\\jcrro\\anaconda3\\envs\\EnvP7\\lib\\site-packages\\tensorboard\\compat\\tensorflow_stub\\dtypes.py:541: FutureWarning: Passing (type, 1) or '1type' as a synonym of type is deprecated; in a future version of numpy, it will be understood as (type, (1,)) / '(1,)type'.\n",
      "  _np_qint8 = np.dtype([(\"qint8\", np.int8, 1)])\n",
      "C:\\Users\\jcrro\\anaconda3\\envs\\EnvP7\\lib\\site-packages\\tensorboard\\compat\\tensorflow_stub\\dtypes.py:542: FutureWarning: Passing (type, 1) or '1type' as a synonym of type is deprecated; in a future version of numpy, it will be understood as (type, (1,)) / '(1,)type'.\n",
      "  _np_quint8 = np.dtype([(\"quint8\", np.uint8, 1)])\n",
      "C:\\Users\\jcrro\\anaconda3\\envs\\EnvP7\\lib\\site-packages\\tensorboard\\compat\\tensorflow_stub\\dtypes.py:543: FutureWarning: Passing (type, 1) or '1type' as a synonym of type is deprecated; in a future version of numpy, it will be understood as (type, (1,)) / '(1,)type'.\n",
      "  _np_qint16 = np.dtype([(\"qint16\", np.int16, 1)])\n",
      "C:\\Users\\jcrro\\anaconda3\\envs\\EnvP7\\lib\\site-packages\\tensorboard\\compat\\tensorflow_stub\\dtypes.py:544: FutureWarning: Passing (type, 1) or '1type' as a synonym of type is deprecated; in a future version of numpy, it will be understood as (type, (1,)) / '(1,)type'.\n",
      "  _np_quint16 = np.dtype([(\"quint16\", np.uint16, 1)])\n",
      "C:\\Users\\jcrro\\anaconda3\\envs\\EnvP7\\lib\\site-packages\\tensorboard\\compat\\tensorflow_stub\\dtypes.py:545: FutureWarning: Passing (type, 1) or '1type' as a synonym of type is deprecated; in a future version of numpy, it will be understood as (type, (1,)) / '(1,)type'.\n",
      "  _np_qint32 = np.dtype([(\"qint32\", np.int32, 1)])\n",
      "C:\\Users\\jcrro\\anaconda3\\envs\\EnvP7\\lib\\site-packages\\tensorboard\\compat\\tensorflow_stub\\dtypes.py:550: FutureWarning: Passing (type, 1) or '1type' as a synonym of type is deprecated; in a future version of numpy, it will be understood as (type, (1,)) / '(1,)type'.\n",
      "  np_resource = np.dtype([(\"resource\", np.ubyte, 1)])\n"
     ]
    }
   ],
   "source": [
    "import numpy as np # linear algebra\n",
    "import pandas as pd # data processing, CSV file I/O (e.g. pd.read_csv)\n",
    "\n",
    "from sklearn.feature_extraction.text import CountVectorizer\n",
    "from sklearn.metrics import confusion_matrix, accuracy_score\n",
    "from sklearn.model_selection import train_test_split\n",
    "\n",
    "from keras.preprocessing.text import Tokenizer\n",
    "from keras.preprocessing.sequence import pad_sequences\n",
    "from keras.models import Sequential\n",
    "from keras.layers import *\n",
    "from keras.utils.np_utils import to_categorical\n",
    "from keras.initializers import Constant\n",
    "import re\n",
    "\n",
    "import matplotlib.pyplot as plt\n",
    "%matplotlib inline"
   ]
  },
  {
   "cell_type": "code",
   "execution_count": 3,
   "metadata": {},
   "outputs": [],
   "source": [
    "commentData = pd.read_csv('P7_01_0_training.1600.processed.noemoticon.csv', encoding='ISO-8859-1')"
   ]
  },
  {
   "cell_type": "code",
   "execution_count": 4,
   "metadata": {
    "scrolled": false
   },
   "outputs": [
    {
     "data": {
      "text/html": [
       "<div>\n",
       "<style scoped>\n",
       "    .dataframe tbody tr th:only-of-type {\n",
       "        vertical-align: middle;\n",
       "    }\n",
       "\n",
       "    .dataframe tbody tr th {\n",
       "        vertical-align: top;\n",
       "    }\n",
       "\n",
       "    .dataframe thead th {\n",
       "        text-align: right;\n",
       "    }\n",
       "</style>\n",
       "<table border=\"1\" class=\"dataframe\">\n",
       "  <thead>\n",
       "    <tr style=\"text-align: right;\">\n",
       "      <th></th>\n",
       "      <th>target</th>\n",
       "      <th>id</th>\n",
       "      <th>date</th>\n",
       "      <th>flag</th>\n",
       "      <th>user</th>\n",
       "      <th>text</th>\n",
       "    </tr>\n",
       "  </thead>\n",
       "  <tbody>\n",
       "    <tr>\n",
       "      <th>0</th>\n",
       "      <td>4</td>\n",
       "      <td>1467882425</td>\n",
       "      <td>Mon Apr 06 22:38:36 PDT 2009</td>\n",
       "      <td>NO_QUERY</td>\n",
       "      <td>Julia_xxoo</td>\n",
       "      <td>tafe quiz then PHOTOSHOOT with my sezdawg</td>\n",
       "    </tr>\n",
       "    <tr>\n",
       "      <th>1</th>\n",
       "      <td>4</td>\n",
       "      <td>1467937329</td>\n",
       "      <td>Mon Apr 06 22:53:54 PDT 2009</td>\n",
       "      <td>NO_QUERY</td>\n",
       "      <td>DeenaWilliams</td>\n",
       "      <td>@RyanStar  Hey Ryan, just thought I'd say that...</td>\n",
       "    </tr>\n",
       "    <tr>\n",
       "      <th>2</th>\n",
       "      <td>4</td>\n",
       "      <td>1468007072</td>\n",
       "      <td>Mon Apr 06 23:13:41 PDT 2009</td>\n",
       "      <td>NO_QUERY</td>\n",
       "      <td>pluggdin</td>\n",
       "      <td>@KesavaReddy  mba is good for learning tools/t...</td>\n",
       "    </tr>\n",
       "    <tr>\n",
       "      <th>3</th>\n",
       "      <td>4</td>\n",
       "      <td>1468145953</td>\n",
       "      <td>Mon Apr 06 23:58:07 PDT 2009</td>\n",
       "      <td>NO_QUERY</td>\n",
       "      <td>InYourEyes2410</td>\n",
       "      <td>@tommcfly haha morning then. i think (aussie h...</td>\n",
       "    </tr>\n",
       "    <tr>\n",
       "      <th>4</th>\n",
       "      <td>4</td>\n",
       "      <td>1468407270</td>\n",
       "      <td>Tue Apr 07 01:28:50 PDT 2009</td>\n",
       "      <td>NO_QUERY</td>\n",
       "      <td>Anjuli_nz</td>\n",
       "      <td>@Azlemed thats good</td>\n",
       "    </tr>\n",
       "    <tr>\n",
       "      <th>...</th>\n",
       "      <td>...</td>\n",
       "      <td>...</td>\n",
       "      <td>...</td>\n",
       "      <td>...</td>\n",
       "      <td>...</td>\n",
       "      <td>...</td>\n",
       "    </tr>\n",
       "    <tr>\n",
       "      <th>1595</th>\n",
       "      <td>0</td>\n",
       "      <td>2326752569</td>\n",
       "      <td>Thu Jun 25 07:27:54 PDT 2009</td>\n",
       "      <td>NO_QUERY</td>\n",
       "      <td>chrissymassey</td>\n",
       "      <td>i'm so tired!</td>\n",
       "    </tr>\n",
       "    <tr>\n",
       "      <th>1596</th>\n",
       "      <td>0</td>\n",
       "      <td>2327023853</td>\n",
       "      <td>Thu Jun 25 07:49:13 PDT 2009</td>\n",
       "      <td>NO_QUERY</td>\n",
       "      <td>brandedyouth</td>\n",
       "      <td>@ispeed72 I hear ya!</td>\n",
       "    </tr>\n",
       "    <tr>\n",
       "      <th>1597</th>\n",
       "      <td>0</td>\n",
       "      <td>2327447537</td>\n",
       "      <td>Thu Jun 25 08:21:32 PDT 2009</td>\n",
       "      <td>NO_QUERY</td>\n",
       "      <td>TA_Mobile</td>\n",
       "      <td>Almost of ICsid changed ... No more simple pro...</td>\n",
       "    </tr>\n",
       "    <tr>\n",
       "      <th>1598</th>\n",
       "      <td>0</td>\n",
       "      <td>2328250549</td>\n",
       "      <td>Thu Jun 25 09:21:07 PDT 2009</td>\n",
       "      <td>NO_QUERY</td>\n",
       "      <td>Omkaaraa</td>\n",
       "      <td>nobody joined my followers list today  ..</td>\n",
       "    </tr>\n",
       "    <tr>\n",
       "      <th>1599</th>\n",
       "      <td>0</td>\n",
       "      <td>2328351706</td>\n",
       "      <td>Thu Jun 25 09:28:35 PDT 2009</td>\n",
       "      <td>NO_QUERY</td>\n",
       "      <td>subq</td>\n",
       "      <td>@Time_Decay I don't think so either</td>\n",
       "    </tr>\n",
       "  </tbody>\n",
       "</table>\n",
       "<p>1600 rows × 6 columns</p>\n",
       "</div>"
      ],
      "text/plain": [
       "      target          id                          date      flag  \\\n",
       "0          4  1467882425  Mon Apr 06 22:38:36 PDT 2009  NO_QUERY   \n",
       "1          4  1467937329  Mon Apr 06 22:53:54 PDT 2009  NO_QUERY   \n",
       "2          4  1468007072  Mon Apr 06 23:13:41 PDT 2009  NO_QUERY   \n",
       "3          4  1468145953  Mon Apr 06 23:58:07 PDT 2009  NO_QUERY   \n",
       "4          4  1468407270  Tue Apr 07 01:28:50 PDT 2009  NO_QUERY   \n",
       "...      ...         ...                           ...       ...   \n",
       "1595       0  2326752569  Thu Jun 25 07:27:54 PDT 2009  NO_QUERY   \n",
       "1596       0  2327023853  Thu Jun 25 07:49:13 PDT 2009  NO_QUERY   \n",
       "1597       0  2327447537  Thu Jun 25 08:21:32 PDT 2009  NO_QUERY   \n",
       "1598       0  2328250549  Thu Jun 25 09:21:07 PDT 2009  NO_QUERY   \n",
       "1599       0  2328351706  Thu Jun 25 09:28:35 PDT 2009  NO_QUERY   \n",
       "\n",
       "                user                                               text  \n",
       "0         Julia_xxoo         tafe quiz then PHOTOSHOOT with my sezdawg   \n",
       "1      DeenaWilliams  @RyanStar  Hey Ryan, just thought I'd say that...  \n",
       "2           pluggdin  @KesavaReddy  mba is good for learning tools/t...  \n",
       "3     InYourEyes2410  @tommcfly haha morning then. i think (aussie h...  \n",
       "4          Anjuli_nz                               @Azlemed thats good   \n",
       "...              ...                                                ...  \n",
       "1595   chrissymassey                                     i'm so tired!   \n",
       "1596    brandedyouth                              @ispeed72 I hear ya!   \n",
       "1597       TA_Mobile  Almost of ICsid changed ... No more simple pro...  \n",
       "1598        Omkaaraa          nobody joined my followers list today  ..  \n",
       "1599            subq               @Time_Decay I don't think so either   \n",
       "\n",
       "[1600 rows x 6 columns]"
      ]
     },
     "execution_count": 4,
     "metadata": {},
     "output_type": "execute_result"
    }
   ],
   "source": [
    "commentData"
   ]
  },
  {
   "cell_type": "code",
   "execution_count": 5,
   "metadata": {},
   "outputs": [],
   "source": [
    "df = commentData"
   ]
  },
  {
   "cell_type": "code",
   "execution_count": 6,
   "metadata": {
    "scrolled": true
   },
   "outputs": [
    {
     "data": {
      "text/html": [
       "<div>\n",
       "<style scoped>\n",
       "    .dataframe tbody tr th:only-of-type {\n",
       "        vertical-align: middle;\n",
       "    }\n",
       "\n",
       "    .dataframe tbody tr th {\n",
       "        vertical-align: top;\n",
       "    }\n",
       "\n",
       "    .dataframe thead th {\n",
       "        text-align: right;\n",
       "    }\n",
       "</style>\n",
       "<table border=\"1\" class=\"dataframe\">\n",
       "  <thead>\n",
       "    <tr style=\"text-align: right;\">\n",
       "      <th></th>\n",
       "      <th>Sentiment</th>\n",
       "      <th>text</th>\n",
       "    </tr>\n",
       "  </thead>\n",
       "  <tbody>\n",
       "    <tr>\n",
       "      <th>0</th>\n",
       "      <td>4</td>\n",
       "      <td>tafe quiz then PHOTOSHOOT with my sezdawg</td>\n",
       "    </tr>\n",
       "    <tr>\n",
       "      <th>1</th>\n",
       "      <td>4</td>\n",
       "      <td>@RyanStar  Hey Ryan, just thought I'd say that...</td>\n",
       "    </tr>\n",
       "    <tr>\n",
       "      <th>2</th>\n",
       "      <td>4</td>\n",
       "      <td>@KesavaReddy  mba is good for learning tools/t...</td>\n",
       "    </tr>\n",
       "    <tr>\n",
       "      <th>3</th>\n",
       "      <td>4</td>\n",
       "      <td>@tommcfly haha morning then. i think (aussie h...</td>\n",
       "    </tr>\n",
       "    <tr>\n",
       "      <th>4</th>\n",
       "      <td>4</td>\n",
       "      <td>@Azlemed thats good</td>\n",
       "    </tr>\n",
       "    <tr>\n",
       "      <th>...</th>\n",
       "      <td>...</td>\n",
       "      <td>...</td>\n",
       "    </tr>\n",
       "    <tr>\n",
       "      <th>1595</th>\n",
       "      <td>0</td>\n",
       "      <td>i'm so tired!</td>\n",
       "    </tr>\n",
       "    <tr>\n",
       "      <th>1596</th>\n",
       "      <td>0</td>\n",
       "      <td>@ispeed72 I hear ya!</td>\n",
       "    </tr>\n",
       "    <tr>\n",
       "      <th>1597</th>\n",
       "      <td>0</td>\n",
       "      <td>Almost of ICsid changed ... No more simple pro...</td>\n",
       "    </tr>\n",
       "    <tr>\n",
       "      <th>1598</th>\n",
       "      <td>0</td>\n",
       "      <td>nobody joined my followers list today  ..</td>\n",
       "    </tr>\n",
       "    <tr>\n",
       "      <th>1599</th>\n",
       "      <td>0</td>\n",
       "      <td>@Time_Decay I don't think so either</td>\n",
       "    </tr>\n",
       "  </tbody>\n",
       "</table>\n",
       "<p>1600 rows × 2 columns</p>\n",
       "</div>"
      ],
      "text/plain": [
       "      Sentiment                                               text\n",
       "0             4         tafe quiz then PHOTOSHOOT with my sezdawg \n",
       "1             4  @RyanStar  Hey Ryan, just thought I'd say that...\n",
       "2             4  @KesavaReddy  mba is good for learning tools/t...\n",
       "3             4  @tommcfly haha morning then. i think (aussie h...\n",
       "4             4                               @Azlemed thats good \n",
       "...         ...                                                ...\n",
       "1595          0                                     i'm so tired! \n",
       "1596          0                              @ispeed72 I hear ya! \n",
       "1597          0  Almost of ICsid changed ... No more simple pro...\n",
       "1598          0          nobody joined my followers list today  ..\n",
       "1599          0               @Time_Decay I don't think so either \n",
       "\n",
       "[1600 rows x 2 columns]"
      ]
     },
     "execution_count": 6,
     "metadata": {},
     "output_type": "execute_result"
    }
   ],
   "source": [
    "train_df = df.drop([\"id\",\"date\",\"flag\",\"flag\",\"user\"], axis=1)\n",
    "train_df = train_df.rename(columns={\"target\": \"Sentiment\"})\n",
    "train_df"
   ]
  },
  {
   "cell_type": "code",
   "execution_count": 7,
   "metadata": {},
   "outputs": [],
   "source": [
    "import matplotlib.pyplot as plt\n",
    "import seaborn as sns\n",
    "import pylab as pl  "
   ]
  },
  {
   "cell_type": "code",
   "execution_count": 8,
   "metadata": {},
   "outputs": [],
   "source": [
    "train_df['Length'] = train_df['text'].apply(len)"
   ]
  },
  {
   "cell_type": "code",
   "execution_count": 9,
   "metadata": {},
   "outputs": [
    {
     "data": {
      "text/plain": [
       "<AxesSubplot:ylabel='Frequency'>"
      ]
     },
     "execution_count": 9,
     "metadata": {},
     "output_type": "execute_result"
    },
    {
     "data": {
      "image/png": "[encoded data removed]",
      "text/plain": [
       "<Figure size 432x288 with 1 Axes>"
      ]
     },
     "metadata": {
      "needs_background": "light"
     },
     "output_type": "display_data"
    }
   ],
   "source": [
    "train_df['Length'].plot(kind = 'hist' , bins = 50) "
   ]
  },
  {
   "cell_type": "code",
   "execution_count": 10,
   "metadata": {},
   "outputs": [
    {
     "data": {
      "text/plain": [
       "Text(0.5, 0.98, 'Length via each Sentiment')"
      ]
     },
     "execution_count": 10,
     "metadata": {},
     "output_type": "execute_result"
    },
    {
     "data": {
      "image/png": "[encoded data removed]",
      "text/plain": [
       "<Figure size 720x360 with 2 Axes>"
      ]
     },
     "metadata": {
      "needs_background": "light"
     },
     "output_type": "display_data"
    }
   ],
   "source": [
    "ax = train_df.hist(column = 'Length', by = 'Sentiment', bins = 50 , figsize = (10,5));\n",
    "pl.suptitle('Length via each Sentiment') "
   ]
  },
  {
   "cell_type": "code",
   "execution_count": 11,
   "metadata": {},
   "outputs": [
    {
     "name": "stderr",
     "output_type": "stream",
     "text": [
      "[nltk_data] Downloading package punkt to\n",
      "[nltk_data]     C:\\Users\\jcrro\\AppData\\Roaming\\nltk_data...\n",
      "[nltk_data]   Package punkt is already up-to-date!\n",
      "[nltk_data] Downloading package wordnet to\n",
      "[nltk_data]     C:\\Users\\jcrro\\AppData\\Roaming\\nltk_data...\n",
      "[nltk_data]   Package wordnet is already up-to-date!\n",
      "[nltk_data] Downloading package stopwords to\n",
      "[nltk_data]     C:\\Users\\jcrro\\AppData\\Roaming\\nltk_data...\n",
      "[nltk_data]   Package stopwords is already up-to-date!\n"
     ]
    }
   ],
   "source": [
    "import nltk\n",
    "nltk.download('punkt')\n",
    "nltk.download('wordnet')\n",
    "nltk.download('stopwords')\n",
    "from nltk import sent_tokenize, word_tokenize\n",
    "from nltk.stem import PorterStemmer\n",
    "from nltk.stem.snowball import SnowballStemmer\n",
    "from nltk.stem.wordnet import WordNetLemmatizer\n",
    "from nltk.corpus import stopwords\n",
    "import pandas as pd\n",
    "import numpy as np\n",
    "import re \n",
    "stemming = PorterStemmer()\n",
    "Lemmatizer = WordNetLemmatizer()\n",
    "stops = set(stopwords.words(\"english\"))\n",
    "stops2 = set(stopwords.words(\"french\"))"
   ]
  },
  {
   "cell_type": "code",
   "execution_count": 12,
   "metadata": {},
   "outputs": [],
   "source": [
    "\n",
    "def clean_str(x):\n",
    "    \n",
    "    x = str(x)\n",
    "   \n",
    "    # Convert to lower case\n",
    "    text = x.lower()\n",
    "    \n",
    "    # Tokenize\n",
    "    tokens = nltk.word_tokenize(text)\n",
    "    \n",
    "    # Keep only words (removes punctuation + numbers)\n",
    "    # use .isalnum to keep also numbers\n",
    "    token_words = [w for w in tokens if w.isalpha()]\n",
    "    \n",
    "    # Stemming\n",
    "    stemmed_words = [stemming.stem(w) for w in token_words]\n",
    "\n",
    "    # lemmatizer    \n",
    "    #lemmatizer_words = [Lemmatizer.lemmatize(w) for w in token_words]\n",
    "    \n",
    "    # Remove stop words\n",
    "    meaningful_words = [w for w in token_words if not w in stops]\n",
    "    \n",
    "    # Remove stop words\n",
    "    meaningful_words2 = [w for w in meaningful_words if not w in stops2]   \n",
    "    \n",
    "    # Rejoin meaningful stemmed words\n",
    "    joined_words = ( \" \".join(meaningful_words2))\n",
    "\n",
    "    \n",
    "    # Return cleaned data\n",
    "    return joined_words\n",
    "\n",
    "\n",
    "train_df['text'] = train_df['text'].apply(clean_str)"
   ]
  },
  {
   "cell_type": "code",
   "execution_count": 13,
   "metadata": {
    "scrolled": false
   },
   "outputs": [
    {
     "data": {
      "text/html": [
       "<div>\n",
       "<style scoped>\n",
       "    .dataframe tbody tr th:only-of-type {\n",
       "        vertical-align: middle;\n",
       "    }\n",
       "\n",
       "    .dataframe tbody tr th {\n",
       "        vertical-align: top;\n",
       "    }\n",
       "\n",
       "    .dataframe thead th {\n",
       "        text-align: right;\n",
       "    }\n",
       "</style>\n",
       "<table border=\"1\" class=\"dataframe\">\n",
       "  <thead>\n",
       "    <tr style=\"text-align: right;\">\n",
       "      <th></th>\n",
       "      <th>Sentiment</th>\n",
       "      <th>text</th>\n",
       "      <th>Length</th>\n",
       "    </tr>\n",
       "  </thead>\n",
       "  <tbody>\n",
       "    <tr>\n",
       "      <th>0</th>\n",
       "      <td>4</td>\n",
       "      <td>tafe quiz photoshoot sezdawg</td>\n",
       "      <td>42</td>\n",
       "    </tr>\n",
       "    <tr>\n",
       "      <th>1</th>\n",
       "      <td>4</td>\n",
       "      <td>ryanstar hey ryan thought say u put great show...</td>\n",
       "      <td>131</td>\n",
       "    </tr>\n",
       "    <tr>\n",
       "      <th>2</th>\n",
       "      <td>4</td>\n",
       "      <td>kesavareddy mba good learning one start taking...</td>\n",
       "      <td>110</td>\n",
       "    </tr>\n",
       "    <tr>\n",
       "      <th>3</th>\n",
       "      <td>4</td>\n",
       "      <td>tommcfly haha morning think aussie wheat bix h...</td>\n",
       "      <td>98</td>\n",
       "    </tr>\n",
       "    <tr>\n",
       "      <th>4</th>\n",
       "      <td>4</td>\n",
       "      <td>azlemed thats good</td>\n",
       "      <td>20</td>\n",
       "    </tr>\n",
       "    <tr>\n",
       "      <th>...</th>\n",
       "      <td>...</td>\n",
       "      <td>...</td>\n",
       "      <td>...</td>\n",
       "    </tr>\n",
       "    <tr>\n",
       "      <th>1595</th>\n",
       "      <td>0</td>\n",
       "      <td>tired</td>\n",
       "      <td>14</td>\n",
       "    </tr>\n",
       "    <tr>\n",
       "      <th>1596</th>\n",
       "      <td>0</td>\n",
       "      <td>hear ya</td>\n",
       "      <td>21</td>\n",
       "    </tr>\n",
       "    <tr>\n",
       "      <th>1597</th>\n",
       "      <td>0</td>\n",
       "      <td>almost icsid changed simple programmers</td>\n",
       "      <td>55</td>\n",
       "    </tr>\n",
       "    <tr>\n",
       "      <th>1598</th>\n",
       "      <td>0</td>\n",
       "      <td>nobody joined followers list today</td>\n",
       "      <td>41</td>\n",
       "    </tr>\n",
       "    <tr>\n",
       "      <th>1599</th>\n",
       "      <td>0</td>\n",
       "      <td>think either</td>\n",
       "      <td>36</td>\n",
       "    </tr>\n",
       "  </tbody>\n",
       "</table>\n",
       "<p>1600 rows × 3 columns</p>\n",
       "</div>"
      ],
      "text/plain": [
       "      Sentiment                                               text  Length\n",
       "0             4                       tafe quiz photoshoot sezdawg      42\n",
       "1             4  ryanstar hey ryan thought say u put great show...     131\n",
       "2             4  kesavareddy mba good learning one start taking...     110\n",
       "3             4  tommcfly haha morning think aussie wheat bix h...      98\n",
       "4             4                                 azlemed thats good      20\n",
       "...         ...                                                ...     ...\n",
       "1595          0                                              tired      14\n",
       "1596          0                                            hear ya      21\n",
       "1597          0            almost icsid changed simple programmers      55\n",
       "1598          0                 nobody joined followers list today      41\n",
       "1599          0                                       think either      36\n",
       "\n",
       "[1600 rows x 3 columns]"
      ]
     },
     "execution_count": 13,
     "metadata": {},
     "output_type": "execute_result"
    }
   ],
   "source": [
    "train_df"
   ]
  },
  {
   "cell_type": "code",
   "execution_count": 14,
   "metadata": {
    "scrolled": true
   },
   "outputs": [
    {
     "name": "stdout",
     "output_type": "stream",
     "text": [
      "      Sentiment                                               text  Length\n",
      "0             4                       tafe quiz photoshoot sezdawg      42\n",
      "1             4  ryanstar hey ryan thought say u put great show...     131\n",
      "2             4  kesavareddy mba good learning one start taking...     110\n",
      "3             4  tommcfly haha morning think aussie wheat bix h...      98\n",
      "4             4                                 azlemed thats good      20\n",
      "...         ...                                                ...     ...\n",
      "1595          0                                              tired      14\n",
      "1596          0                                            hear ya      21\n",
      "1597          0            almost icsid changed simple programmers      55\n",
      "1598          0                 nobody joined followers list today      41\n",
      "1599          0                                       think either      36\n",
      "\n",
      "[1600 rows x 3 columns]\n"
     ]
    }
   ],
   "source": [
    "print(train_df)"
   ]
  },
  {
   "cell_type": "code",
   "execution_count": 15,
   "metadata": {},
   "outputs": [
    {
     "data": {
      "text/html": [
       "<div>\n",
       "<style scoped>\n",
       "    .dataframe tbody tr th:only-of-type {\n",
       "        vertical-align: middle;\n",
       "    }\n",
       "\n",
       "    .dataframe tbody tr th {\n",
       "        vertical-align: top;\n",
       "    }\n",
       "\n",
       "    .dataframe thead th {\n",
       "        text-align: right;\n",
       "    }\n",
       "</style>\n",
       "<table border=\"1\" class=\"dataframe\">\n",
       "  <thead>\n",
       "    <tr style=\"text-align: right;\">\n",
       "      <th></th>\n",
       "      <th>Sentiment</th>\n",
       "      <th>text</th>\n",
       "      <th>Length</th>\n",
       "    </tr>\n",
       "  </thead>\n",
       "  <tbody>\n",
       "    <tr>\n",
       "      <th>0</th>\n",
       "      <td>4</td>\n",
       "      <td>tafe quiz photoshoot sezdawg</td>\n",
       "      <td>42</td>\n",
       "    </tr>\n",
       "    <tr>\n",
       "      <th>1</th>\n",
       "      <td>4</td>\n",
       "      <td>ryanstar hey ryan thought say u put great show...</td>\n",
       "      <td>131</td>\n",
       "    </tr>\n",
       "    <tr>\n",
       "      <th>2</th>\n",
       "      <td>4</td>\n",
       "      <td>kesavareddy mba good learning one start taking...</td>\n",
       "      <td>110</td>\n",
       "    </tr>\n",
       "    <tr>\n",
       "      <th>3</th>\n",
       "      <td>4</td>\n",
       "      <td>tommcfly haha morning think aussie wheat bix h...</td>\n",
       "      <td>98</td>\n",
       "    </tr>\n",
       "    <tr>\n",
       "      <th>4</th>\n",
       "      <td>4</td>\n",
       "      <td>azlemed thats good</td>\n",
       "      <td>20</td>\n",
       "    </tr>\n",
       "    <tr>\n",
       "      <th>...</th>\n",
       "      <td>...</td>\n",
       "      <td>...</td>\n",
       "      <td>...</td>\n",
       "    </tr>\n",
       "    <tr>\n",
       "      <th>1595</th>\n",
       "      <td>0</td>\n",
       "      <td>tired</td>\n",
       "      <td>14</td>\n",
       "    </tr>\n",
       "    <tr>\n",
       "      <th>1596</th>\n",
       "      <td>0</td>\n",
       "      <td>hear ya</td>\n",
       "      <td>21</td>\n",
       "    </tr>\n",
       "    <tr>\n",
       "      <th>1597</th>\n",
       "      <td>0</td>\n",
       "      <td>almost icsid changed simple programmers</td>\n",
       "      <td>55</td>\n",
       "    </tr>\n",
       "    <tr>\n",
       "      <th>1598</th>\n",
       "      <td>0</td>\n",
       "      <td>nobody joined followers list today</td>\n",
       "      <td>41</td>\n",
       "    </tr>\n",
       "    <tr>\n",
       "      <th>1599</th>\n",
       "      <td>0</td>\n",
       "      <td>think either</td>\n",
       "      <td>36</td>\n",
       "    </tr>\n",
       "  </tbody>\n",
       "</table>\n",
       "<p>1600 rows × 3 columns</p>\n",
       "</div>"
      ],
      "text/plain": [
       "      Sentiment                                               text  Length\n",
       "0             4                       tafe quiz photoshoot sezdawg      42\n",
       "1             4  ryanstar hey ryan thought say u put great show...     131\n",
       "2             4  kesavareddy mba good learning one start taking...     110\n",
       "3             4  tommcfly haha morning think aussie wheat bix h...      98\n",
       "4             4                                 azlemed thats good      20\n",
       "...         ...                                                ...     ...\n",
       "1595          0                                              tired      14\n",
       "1596          0                                            hear ya      21\n",
       "1597          0            almost icsid changed simple programmers      55\n",
       "1598          0                 nobody joined followers list today      41\n",
       "1599          0                                       think either      36\n",
       "\n",
       "[1600 rows x 3 columns]"
      ]
     },
     "execution_count": 15,
     "metadata": {},
     "output_type": "execute_result"
    }
   ],
   "source": [
    "df = train_df\n",
    "df"
   ]
  },
  {
   "cell_type": "code",
   "execution_count": 16,
   "metadata": {},
   "outputs": [],
   "source": [
    "df_0 = df[df['Sentiment'] == 0].sample(frac=1)\n",
    "df_4 = df[df['Sentiment'] == 4].sample(frac=1)\n",
    "\n",
    "# we want a balanced set for training against - there are 7072 `0` examples\n",
    "sample_size = min(len(df_0), len(df_4))\n",
    "\n",
    "data = pd.concat([df_0.head(sample_size), df_4.head(sample_size)]).sample(frac=1)"
   ]
  },
  {
   "cell_type": "code",
   "execution_count": 17,
   "metadata": {
    "scrolled": true
   },
   "outputs": [
    {
     "data": {
      "text/plain": [
       "<AxesSubplot:xlabel='Sentiment', ylabel='count'>"
      ]
     },
     "execution_count": 17,
     "metadata": {},
     "output_type": "execute_result"
    },
    {
     "data": {
      "image/png": "[encoded data removed]",
      "text/plain": [
       "<Figure size 432x288 with 1 Axes>"
      ]
     },
     "metadata": {
      "needs_background": "light"
     },
     "output_type": "display_data"
    }
   ],
   "source": [
    "import seaborn as sns\n",
    "\n",
    "sns.countplot(x='Sentiment', data=data)"
   ]
  },
  {
   "cell_type": "code",
   "execution_count": 18,
   "metadata": {},
   "outputs": [],
   "source": [
    "sentences = data['text']"
   ]
  },
  {
   "cell_type": "code",
   "execution_count": 19,
   "metadata": {},
   "outputs": [
    {
     "data": {
      "text/plain": [
       "'tafe quiz photoshoot sezdawg'"
      ]
     },
     "execution_count": 19,
     "metadata": {},
     "output_type": "execute_result"
    }
   ],
   "source": [
    "sentences[0]"
   ]
  },
  {
   "cell_type": "code",
   "execution_count": 20,
   "metadata": {},
   "outputs": [],
   "source": [
    "tokenizer = Tokenizer(num_words = 4000)\n",
    "tokenizer.fit_on_texts(sentences)\n",
    "sequence = tokenizer.texts_to_sequences(sentences)"
   ]
  },
  {
   "cell_type": "code",
   "execution_count": 21,
   "metadata": {
    "scrolled": true
   },
   "outputs": [
    {
     "name": "stdout",
     "output_type": "stream",
     "text": [
      "4412\n"
     ]
    }
   ],
   "source": [
    "index_of_words = tokenizer.word_index\n",
    "print(len(index_of_words))"
   ]
  },
  {
   "cell_type": "code",
   "execution_count": 22,
   "metadata": {},
   "outputs": [],
   "source": [
    "embed_num_dims = 100\n",
    "max_seq_len = 1000"
   ]
  },
  {
   "cell_type": "code",
   "execution_count": 23,
   "metadata": {},
   "outputs": [],
   "source": [
    "padded_seq = pad_sequences(sequence , maxlen = max_seq_len )"
   ]
  },
  {
   "cell_type": "code",
   "execution_count": 24,
   "metadata": {},
   "outputs": [
    {
     "data": {
      "text/plain": [
       "array([[   0,    0,    0, ...,  786, 1292,   70],\n",
       "       [   0,    0,    0, ...,   71,    9,  107],\n",
       "       [   0,    0,    0, ...,    8,  570,  787],\n",
       "       ...,\n",
       "       [   0,    0,    0, ...,    2,  383, 1003],\n",
       "       [   0,    0,    0, ...,    2,  224,  431],\n",
       "       [   0,    0,    0, ...,   43,   35,   48]])"
      ]
     },
     "execution_count": 24,
     "metadata": {},
     "output_type": "execute_result"
    }
   ],
   "source": [
    "padded_seq"
   ]
  },
  {
   "cell_type": "code",
   "execution_count": 25,
   "metadata": {},
   "outputs": [],
   "source": [
    "Y = pd.get_dummies(data['Sentiment']).values"
   ]
  },
  {
   "cell_type": "code",
   "execution_count": 26,
   "metadata": {},
   "outputs": [
    {
     "data": {
      "text/plain": [
       "array([[1, 0],\n",
       "       [1, 0],\n",
       "       [0, 1],\n",
       "       ...,\n",
       "       [1, 0],\n",
       "       [0, 1],\n",
       "       [0, 1]], dtype=uint8)"
      ]
     },
     "execution_count": 26,
     "metadata": {},
     "output_type": "execute_result"
    }
   ],
   "source": [
    "Y"
   ]
  },
  {
   "cell_type": "code",
   "execution_count": 27,
   "metadata": {},
   "outputs": [],
   "source": [
    "from keras.utils import to_categorical\n"
   ]
  },
  {
   "cell_type": "code",
   "execution_count": 28,
   "metadata": {},
   "outputs": [],
   "source": [
    "from sklearn.model_selection import train_test_split\n",
    "\n",
    "X_train,X_test,Y_train,Y_test = train_test_split(padded_seq,Y ,train_size = 0.55)"
   ]
  },
  {
   "cell_type": "code",
   "execution_count": 29,
   "metadata": {
    "scrolled": false
   },
   "outputs": [
    {
     "data": {
      "text/plain": [
       "(880, 2)"
      ]
     },
     "execution_count": 29,
     "metadata": {},
     "output_type": "execute_result"
    }
   ],
   "source": [
    "Y_train.shape"
   ]
  },
  {
   "cell_type": "markdown",
   "metadata": {},
   "source": [
    "## Word2Vec "
   ]
  },
  {
   "cell_type": "code",
   "execution_count": 30,
   "metadata": {},
   "outputs": [
    {
     "data": {
      "text/plain": [
       "1600"
      ]
     },
     "execution_count": 30,
     "metadata": {},
     "output_type": "execute_result"
    }
   ],
   "source": [
    "import string\n",
    "import gensim\n",
    "\n",
    "Comments_lines = list()\n",
    "lines = data['text'].values.tolist()\n",
    "\n",
    "for line in lines:\n",
    "    tokens = word_tokenize(line)\n",
    "    \n",
    "    #convert to lower case\n",
    "    tokens = [w.lower() for w in tokens]\n",
    "    \n",
    "    #remove punctuation from each word\n",
    "    table =  str.maketrans('', '', string.punctuation)\n",
    "    stripped = [w.translate(table) for w in tokens]\n",
    "    \n",
    "    #remove remaining tpkens gthat are not alphabetic\n",
    "    words = [word for word in stripped if word.isalpha()]\n",
    "    \n",
    "    #filter out stop words\n",
    "    stop_words = set(stopwords.words('english'))\n",
    "    words = [w for w in words if not w in stop_words]\n",
    "    Comments_lines.append(words)\n",
    "\n",
    "\n",
    "len(Comments_lines)"
   ]
  },
  {
   "cell_type": "code",
   "execution_count": 31,
   "metadata": {},
   "outputs": [
    {
     "name": "stdout",
     "output_type": "stream",
     "text": [
      "Vocabulary size: 7\n"
     ]
    }
   ],
   "source": [
    "#train word2vec mode\n",
    "embedding_dims = 128 #embedding vector output dimension \n",
    "max_len = 200 #Max. number of words per toxic comment to be use\n",
    "word2VecModel = gensim.models.Word2Vec(sentences=Comments_lines, size= embedding_dims, window=5, workers=4, min_count=1)\n",
    "#vocab size\n",
    "wors = list(word2VecModel.wv.vocab)\n",
    "print('Vocabulary size: %d' % len(words))"
   ]
  },
  {
   "cell_type": "code",
   "execution_count": 32,
   "metadata": {},
   "outputs": [],
   "source": [
    "#save model\n",
    "filename = 'P7_03_5_embedding_word2vec.txt'\n",
    "word2VecModel.wv.save_word2vec_format(filename, binary=False)"
   ]
  },
  {
   "cell_type": "code",
   "execution_count": 33,
   "metadata": {},
   "outputs": [],
   "source": [
    "word2Vec_embeddings_index = {}\n",
    "word2vec_file = open('P7_03_5_embedding_word2vec.txt', encoding = \"utf-8\")\n",
    "\n",
    "for line in word2vec_file:\n",
    "    values = line.split()\n",
    "    word = values[0]\n",
    "    coefficient = np.asarray(values[1:])\n",
    "    word2Vec_embeddings_index[word] = coefficient\n",
    "word2vec_file.close()"
   ]
  },
  {
   "cell_type": "code",
   "execution_count": 34,
   "metadata": {},
   "outputs": [
    {
     "name": "stdout",
     "output_type": "stream",
     "text": [
      "Found 4412 uniquue tokens.\n",
      "Shape of toxic comments tensor (1600, 200)\n",
      "Shape of comment tensor (1600, 2)\n"
     ]
    }
   ],
   "source": [
    "#vectorize the text samples into a 2D integer tensor\n",
    "tokenizer_obj = Tokenizer()\n",
    "tokenizer_obj.fit_on_texts(Comments_lines)\n",
    "sequences = tokenizer_obj.texts_to_sequences(Comments_lines)\n",
    "\n",
    "#pad sequences\n",
    "word_index = tokenizer_obj.word_index\n",
    "print('Found %s uniquue tokens.' % len(word_index))\n",
    "\n",
    "Comments_pad = pad_sequences(sequences, maxlen=max_len)\n",
    "comments_tag =  pd.get_dummies(data['Sentiment']).values\n",
    "print('Shape of toxic comments tensor', Comments_pad.shape)\n",
    "print('Shape of comment tensor', comments_tag.shape)"
   ]
  },
  {
   "cell_type": "code",
   "execution_count": 35,
   "metadata": {},
   "outputs": [
    {
     "name": "stdout",
     "output_type": "stream",
     "text": [
      "4413\n",
      "4413\n",
      "128\n"
     ]
    }
   ],
   "source": [
    "num_words = len(word_index)+1\n",
    "word2Vec_embedding_matrix = np.zeros((num_words, embedding_dims))\n",
    "\n",
    "for word, i  in word_index.items():\n",
    "    if i > num_words:\n",
    "        continue\n",
    "    word2Vec_embedding_vector = word2Vec_embeddings_index.get(word)\n",
    "    if word2Vec_embedding_vector is not None:\n",
    "        #words not found in embedding index will be all-zeros.\n",
    "        word2Vec_embedding_matrix[i] = word2Vec_embedding_vector\n",
    "\n",
    "print(num_words)\n",
    "print(word2Vec_embedding_matrix.shape[0])\n",
    "print(word2Vec_embedding_matrix.shape[1])"
   ]
  },
  {
   "cell_type": "code",
   "execution_count": 36,
   "metadata": {},
   "outputs": [],
   "source": [
    "# For custom metrics\n",
    "# importing libraries\n",
    "import tensorflow as tf\n",
    "from keras import initializers, regularizers, constraints, optimizers, layers, callbacks\n",
    "from keras.callbacks import EarlyStopping,ModelCheckpoint\n",
    "from keras.preprocessing.text import Tokenizer\n",
    "from keras.preprocessing.sequence import pad_sequences\n",
    "from keras.preprocessing import text, sequence\n",
    "from keras import initializers, regularizers, constraints, optimizers, layers\n",
    "from keras.models import Model, Input, Sequential\n",
    "from keras.layers import Dense, Input, LSTM, SimpleRNN, Embedding, Dropout, SpatialDropout1D, Activation, Conv1D,GRU\n",
    "from keras.layers import Conv1D, Bidirectional, GlobalMaxPool1D, MaxPooling1D, BatchNormalization, Add, Flatten\n",
    "from keras.layers import GlobalMaxPooling1D, GlobalAveragePooling1D, concatenate, SpatialDropout1D\n",
    "from keras.optimizers import Adam\n",
    "from keras.utils.vis_utils import plot_model\n",
    "from sklearn.model_selection  import train_test_split\n",
    "#from sklearn.cross_validation import train_test_split\n",
    "\n",
    "# For custom metrics\n",
    "import keras.backend as K\n",
    "from keras.utils.vis_utils import plot_model\n",
    "from keras.callbacks import EarlyStopping \n",
    "\n",
    "\n",
    "import pandas as pd\n",
    "import numpy as np\n",
    " \n",
    "import matplotlib.pyplot as plt\n",
    "\n",
    "plt.style.use('seaborn')\n",
    "\n",
    "import seaborn as sns\n",
    "from IPython.display import Image\n",
    "\n",
    "from tqdm import tqdm\n",
    "from nltk.corpus import stopwords\n",
    "from nltk.tokenize import RegexpTokenizer \n",
    "import os, re, csv, math, codecs\n",
    "from nltk.tokenize import word_tokenize\n",
    "import string\n",
    "import gensim\n",
    "import os\n",
    "import re\n",
    "\n",
    "sns.set_style(\"whitegrid\")\n",
    "np.random.seed(0)\n",
    "\n",
    "\n",
    "import plotly\n"
   ]
  },
  {
   "cell_type": "code",
   "execution_count": 37,
   "metadata": {},
   "outputs": [],
   "source": [
    "#Import necessary libraries\n",
    "4# demonstration of calculating metrics for a neural network model using sklearn\n",
    "from sklearn.datasets import make_circles\n",
    "from sklearn.metrics import accuracy_score\n",
    "from sklearn.metrics import precision_score\n",
    "from sklearn.metrics import recall_score\n",
    "from sklearn.metrics import f1_score\n",
    "from sklearn.metrics import cohen_kappa_score\n",
    "from sklearn.metrics import roc_auc_score\n",
    "from sklearn.metrics import confusion_matrix\n",
    "\n",
    "\n",
    "def precision(y_true, y_pred):\n",
    "    '''Calculates the precision, a metric for multi-label classification of\n",
    "    how many selected items are relevant.\n",
    "    '''\n",
    "    true_positives = K.sum(K.round(K.clip(y_true * y_pred, 0, 1)))\n",
    "    predicted_positives = K.sum(K.round(K.clip(y_pred, 0, 1)))\n",
    "    precision = true_positives / (predicted_positives + K.epsilon())\n",
    "    return precision\n",
    "\n",
    "\n",
    "def recall(y_true, y_pred):\n",
    "    '''Calculates the recall, a metric for multi-label classification of\n",
    "    how many relevant items are selected.\n",
    "    '''\n",
    "    true_positives = K.sum(K.round(K.clip(y_true * y_pred, 0, 1)))\n",
    "    possible_positives = K.sum(K.round(K.clip(y_true, 0, 1)))\n",
    "    recall = true_positives / (possible_positives + K.epsilon())\n",
    "    return recall\n",
    "\n",
    "  #Customized the evaluation to analyse the model in terms of accuracy and mean value accuracy\n",
    "def mean_pred(y_true, y_pred):\n",
    "    return K.mean(y_pred)\n",
    "\n",
    "def fbeta_score(y_true, y_pred, beta=1):\n",
    "    '''Calculates the F score, the weighted harmonic mean of precision and recall.\n",
    "    This is useful for multi-label classification, where input samples can be\n",
    "    classified as sets of labels. By only using accuracy (precision) a model\n",
    "    would achieve a perfect score by simply assigning every class to every\n",
    "    input. In order to avoid this, a metric should penalize incorrect class\n",
    "    assignments as well (recall). The F-beta score (ranged from 0.0 to 1.0)\n",
    "    computes this, as a weighted mean of the proportion of correct class\n",
    "    assignments vs. the proportion of incorrect class assignments.\n",
    "    With beta = 1, this is equivalent to a F-measure. With beta < 1, assigning\n",
    "    correct classes becomes more important, and with beta > 1 the metric is\n",
    "    instead weighted towards penalizing incorrect class assignments.\n",
    "    '''\n",
    "    if beta < 0:\n",
    "        raise ValueError('The lowest choosable beta is zero (only precision).')\n",
    "        \n",
    "    # If there are no true positives, fix the F score at 0 like sklearn.\n",
    "    if K.sum(K.round(K.clip(y_true, 0, 1))) == 0:\n",
    "        return 0\n",
    "\n",
    "    p = precision(y_true, y_pred)\n",
    "    r = recall(y_true, y_pred)\n",
    "    bb = beta ** 2\n",
    "    fbeta_score = (1 + bb) * (p * r) / (bb * p + r + K.epsilon())\n",
    "    return fbeta_score\n",
    "\n",
    "def auroc(y_true, y_pred):\n",
    "    auc = tf.metrics.auc(y_true, y_pred)[1]\n",
    "    K.get_session().run(tf.local_variables_initializer())\n",
    "    return auc\n",
    "\n",
    "\n",
    "def fmeasure(y_true, y_pred):\n",
    "    '''Calculates the f-measure, the harmonic mean of precision and recall.\n",
    "    '''\n",
    "    return fbeta_score(y_true, y_pred, beta=1)\n",
    "\n",
    "\n",
    "fscore = f1score = fmeasure"
   ]
  },
  {
   "cell_type": "code",
   "execution_count": 38,
   "metadata": {},
   "outputs": [
    {
     "name": "stdout",
     "output_type": "stream",
     "text": [
      "Found 4413 word vectors.\n"
     ]
    }
   ],
   "source": [
    "f = open('P7_03_5_embedding_word2vec.txt', encoding=\"utf8\")\n",
    "embedd_index = {}\n",
    "for line in f:\n",
    "    val = line.split()\n",
    "    word = val[0]\n",
    "    coff = np.asarray(val[1:],dtype = 'float')\n",
    "    embedd_index[word] = coff\n",
    "\n",
    "f.close()\n",
    "print('Found %s word vectors.' % len(embedd_index))"
   ]
  },
  {
   "cell_type": "code",
   "execution_count": 39,
   "metadata": {},
   "outputs": [
    {
     "data": {
      "text/plain": [
       "array([-3.2561165e-03,  2.1232332e-03, -3.8372793e-03, -4.2967110e-03,\n",
       "       -3.0942380e-03,  8.8369470e-05,  2.0816840e-03,  1.0311466e-03,\n",
       "       -1.8320300e-04, -3.0508090e-03,  2.4248650e-03,  2.5885603e-03,\n",
       "       -4.1856730e-03,  1.9045771e-03,  3.1564373e-04, -1.9853278e-03,\n",
       "       -2.7396840e-03, -1.6359598e-03,  6.9470400e-04,  1.1217736e-03,\n",
       "       -2.1643251e-04, -3.1020797e-03, -1.6576807e-03, -1.4008380e-03,\n",
       "       -1.9744562e-03, -1.7554539e-03,  7.4220280e-04,  2.4445239e-03,\n",
       "        2.1294840e-03, -1.3363579e-03,  4.4476630e-04,  1.7949244e-03,\n",
       "       -3.3830085e-03,  4.8777600e-04, -1.0139792e-03, -1.5795424e-03,\n",
       "        2.2043476e-03, -3.6467760e-03, -1.0535856e-04,  3.3890302e-03,\n",
       "        2.1414421e-04, -2.3749894e-03, -2.6825413e-03, -2.6127730e-03,\n",
       "       -9.6389337e-04,  1.2810358e-03, -3.3691588e-03,  3.1027107e-03,\n",
       "       -7.3529920e-04,  3.9554387e-03,  5.0557056e-04,  4.7927676e-04,\n",
       "       -8.2179054e-04,  3.4399650e-03,  4.2162463e-03,  3.4922840e-03,\n",
       "        1.2757935e-04, -1.9819550e-03, -2.6516677e-03,  2.9030975e-03,\n",
       "        3.1171297e-03,  1.0969385e-03, -2.5903620e-03, -1.9873391e-06,\n",
       "        3.2045608e-03, -2.6190474e-03, -2.6256958e-04,  2.9915783e-03,\n",
       "        5.8520224e-04,  1.4539617e-03, -1.8932591e-03,  1.1670424e-03,\n",
       "        3.5607790e-03,  2.9590032e-03,  8.3899533e-04, -9.7741990e-04,\n",
       "        3.6956772e-04, -2.0466160e-03, -1.2239473e-03,  1.9645342e-03,\n",
       "        2.7055974e-04,  2.8306295e-03,  2.2050088e-04,  5.8491370e-04,\n",
       "       -8.8163617e-04,  3.2442880e-03, -6.1214310e-05, -1.2625614e-03,\n",
       "        2.5668260e-03, -1.4167227e-03, -5.5484800e-04, -3.4970436e-03,\n",
       "        1.1111755e-03, -4.4021796e-04,  1.2098787e-03,  1.6269523e-03,\n",
       "        4.2250482e-03, -9.7219090e-05,  2.3816314e-03,  2.1579300e-03,\n",
       "       -9.3449340e-04,  3.4034788e-03, -3.5053972e-04,  7.2400604e-04,\n",
       "        8.4425660e-04,  3.0685915e-05,  1.1895071e-03, -8.7314250e-05,\n",
       "        3.0515674e-03, -6.8350950e-04, -4.1736005e-04,  2.3602888e-03,\n",
       "       -3.9176290e-03, -3.1586594e-03,  1.2124276e-03,  6.5120927e-04,\n",
       "        1.8296073e-03, -2.7782866e-03,  3.4058115e-03, -1.6940953e-03,\n",
       "        1.2842225e-04,  9.8540140e-04,  3.9921580e-03, -7.1869980e-04,\n",
       "       -2.1081173e-03, -3.7579478e-03,  1.5800688e-03,  1.1122153e-03])"
      ]
     },
     "execution_count": 39,
     "metadata": {},
     "output_type": "execute_result"
    }
   ],
   "source": [
    "embedd_index['bad']"
   ]
  },
  {
   "cell_type": "code",
   "execution_count": 40,
   "metadata": {},
   "outputs": [],
   "source": [
    "embedding_matrix = np.zeros((len(index_of_words) + 1, embed_num_dims))\n",
    "\n",
    "tokens = []\n",
    "labels = []\n",
    "\n",
    "for word,i in index_of_words.items():\n",
    "    temp = embedd_index.get(word)\n",
    "    if temp is not None:\n",
    "        word2Vec_embedding_matrix[i] = temp\n",
    "        \n",
    "#for plotting\n",
    "        tokens.append(word2Vec_embedding_matrix[i])\n",
    "        labels.append(word)"
   ]
  },
  {
   "cell_type": "code",
   "execution_count": 41,
   "metadata": {},
   "outputs": [
    {
     "name": "stdout",
     "output_type": "stream",
     "text": [
      "(200, 2)\n"
     ]
    },
    {
     "data": {
      "image/png": "[encoded data removed]",
      "text/plain": [
       "<Figure size 1152x1152 with 1 Axes>"
      ]
     },
     "metadata": {},
     "output_type": "display_data"
    }
   ],
   "source": [
    "from sklearn.manifold import TSNE\n",
    "#TSNE algorithm used to visualize word embeddings having huge amount (100) dimensions\n",
    "\n",
    "def tsne():\n",
    "    \n",
    "    tsne_model = TSNE(perplexity=40, n_components=2, init='pca', n_iter=2500, random_state=23)\n",
    "    new_values = tsne_model.fit_transform(tokens[:200])\n",
    "    print(new_values.shape)\n",
    "    \n",
    "    x = []\n",
    "    y = []\n",
    "    for value in new_values:\n",
    "        x.append(value[0])\n",
    "        y.append(value[1])\n",
    "        \n",
    "    plt.figure(figsize=(16,16)) \n",
    "    for i in range(len(x)):\n",
    "        plt.scatter(x[i],y[i])\n",
    "        plt.annotate(labels[i],\n",
    "                     xy=(x[i], y[i]),\n",
    "                     xytext=(5, 2),\n",
    "                     textcoords='offset points',\n",
    "                     ha='right',\n",
    "                     va='bottom')\n",
    "    plt.show()\n",
    "tsne()"
   ]
  },
  {
   "cell_type": "code",
   "execution_count": 42,
   "metadata": {},
   "outputs": [],
   "source": [
    "#Embedding layer before the actaul BLSTM \n",
    "embedd_layer = Embedding(len(index_of_words) + 1 , embed_num_dims , input_length = max_seq_len , weights = [embedding_matrix])"
   ]
  },
  {
   "cell_type": "markdown",
   "metadata": {},
   "source": [
    "## Bidirecitional LSTM with Word2Vec"
   ]
  },
  {
   "cell_type": "code",
   "execution_count": 43,
   "metadata": {},
   "outputs": [],
   "source": [
    "model = Sequential()\n",
    "model.add(embedd_layer)\n",
    "model.add(Bidirectional(LSTM(30 , return_sequences = True , dropout = 0.1 , recurrent_dropout = 0.1)))\n",
    "model.add(GlobalMaxPooling1D())\n",
    "model.add(Dense(30,activation = 'relu'))\n",
    "model.add(Dropout(0.2))\n",
    "model.add(Dense(2,activation = 'sigmoid'))"
   ]
  },
  {
   "cell_type": "code",
   "execution_count": 44,
   "metadata": {},
   "outputs": [],
   "source": [
    "from keras.optimizers import Adam\n",
    "add = Adam(lr = 0.01)\n",
    "model.compile(loss = 'categorical_crossentropy' , optimizer = add , metrics = ['accuracy'])"
   ]
  },
  {
   "cell_type": "code",
   "execution_count": 45,
   "metadata": {
    "scrolled": true
   },
   "outputs": [
    {
     "name": "stdout",
     "output_type": "stream",
     "text": [
      "Model: \"sequential_1\"\n",
      "_________________________________________________________________\n",
      "Layer (type)                 Output Shape              Param #   \n",
      "=================================================================\n",
      "embedding_1 (Embedding)      (None, 1000, 100)         441300    \n",
      "_________________________________________________________________\n",
      "bidirectional_1 (Bidirection (None, 1000, 60)          31440     \n",
      "_________________________________________________________________\n",
      "global_max_pooling1d_1 (Glob (None, 60)                0         \n",
      "_________________________________________________________________\n",
      "dense_1 (Dense)              (None, 30)                1830      \n",
      "_________________________________________________________________\n",
      "dropout_1 (Dropout)          (None, 30)                0         \n",
      "_________________________________________________________________\n",
      "dense_2 (Dense)              (None, 2)                 62        \n",
      "=================================================================\n",
      "Total params: 474,632\n",
      "Trainable params: 474,632\n",
      "Non-trainable params: 0\n",
      "_________________________________________________________________\n"
     ]
    }
   ],
   "source": [
    "model.summary()"
   ]
  },
  {
   "cell_type": "code",
   "execution_count": 46,
   "metadata": {},
   "outputs": [
    {
     "name": "stdout",
     "output_type": "stream",
     "text": [
      "WARNING:tensorflow:From C:\\Users\\jcrro\\anaconda3\\envs\\EnvP7\\lib\\site-packages\\tensorflow\\python\\ops\\math_grad.py:1250: add_dispatch_support.<locals>.wrapper (from tensorflow.python.ops.array_ops) is deprecated and will be removed in a future version.\n",
      "Instructions for updating:\n",
      "Use tf.where in 2.0, which has the same broadcast rule as np.where\n",
      "WARNING:tensorflow:From C:\\Users\\jcrro\\anaconda3\\envs\\EnvP7\\lib\\site-packages\\keras\\backend\\tensorflow_backend.py:422: The name tf.global_variables is deprecated. Please use tf.compat.v1.global_variables instead.\n",
      "\n",
      "Train on 880 samples, validate on 720 samples\n",
      "Epoch 1/5\n",
      "880/880 [==============================] - 12s 13ms/step - loss: 0.6930 - accuracy: 0.5148 - val_loss: 0.6943 - val_accuracy: 0.4819\n",
      "Epoch 2/5\n",
      "880/880 [==============================] - 11s 12ms/step - loss: 0.6928 - accuracy: 0.5148 - val_loss: 0.6947 - val_accuracy: 0.4819\n",
      "Epoch 3/5\n",
      "880/880 [==============================] - 12s 13ms/step - loss: 0.6927 - accuracy: 0.5148 - val_loss: 0.6948 - val_accuracy: 0.4819\n",
      "Epoch 4/5\n",
      "880/880 [==============================] - 12s 13ms/step - loss: 0.6927 - accuracy: 0.5148 - val_loss: 0.6949 - val_accuracy: 0.4819\n",
      "Epoch 5/5\n",
      "880/880 [==============================] - 13s 14ms/step - loss: 0.6928 - accuracy: 0.5148 - val_loss: 0.6950 - val_accuracy: 0.4819\n"
     ]
    }
   ],
   "source": [
    "Bil_LSTM_Word2Vec_model_fit = model.fit(X_train,Y_train, batch_size=100, epochs=5, validation_data=(X_test,Y_test))"
   ]
  },
  {
   "cell_type": "code",
   "execution_count": 47,
   "metadata": {
    "scrolled": true
   },
   "outputs": [
    {
     "name": "stdout",
     "output_type": "stream",
     "text": [
      "880/880 [==============================] - 2s 3ms/step\n",
      "Train Loss: 0.6927223625508222\n",
      "Train Accuracy: 0.5147727131843567\n",
      "720/720 [==============================] - 2s 3ms/step\n",
      "Test Loss: 0.6949800219800737\n",
      "Test Accuracy: 0.4819444417953491\n"
     ]
    }
   ],
   "source": [
    "#train\n",
    "Bil_LSTM_Word2Vec_train_score = model.evaluate(X_train,Y_train, batch_size=100, verbose=1)\n",
    "print('Train Loss:', Bil_LSTM_Word2Vec_train_score[0])\n",
    "print('Train Accuracy:', Bil_LSTM_Word2Vec_train_score[1])\n",
    "\n",
    "#test\n",
    "Bil_LSTM_Word2Vec_test_score = model.evaluate(X_test,Y_test, batch_size=100, verbose=1)\n",
    "print('Test Loss:', Bil_LSTM_Word2Vec_test_score[0])\n",
    "print('Test Accuracy:', Bil_LSTM_Word2Vec_test_score[1])"
   ]
  },
  {
   "cell_type": "code",
   "execution_count": 48,
   "metadata": {},
   "outputs": [
    {
     "name": "stdout",
     "output_type": "stream",
     "text": [
      "Accuracy: 48.19%\n"
     ]
    }
   ],
   "source": [
    "result2 = model.evaluate(X_test,Y_test, verbose=0)\n",
    "print(\"Accuracy: %.2f%%\" % (result2[1] * 100))"
   ]
  },
  {
   "cell_type": "code",
   "execution_count": 49,
   "metadata": {},
   "outputs": [
    {
     "data": {
      "image/png": "[encoded data removed]",
      "text/plain": [
       "<Figure size 576x396 with 1 Axes>"
      ]
     },
     "metadata": {},
     "output_type": "display_data"
    },
    {
     "data": {
      "image/png": "[encoded data removed]",
      "text/plain": [
       "<Figure size 576x396 with 1 Axes>"
      ]
     },
     "metadata": {},
     "output_type": "display_data"
    }
   ],
   "source": [
    "# Plot training & validation accuracy values\n",
    "plt.plot(Bil_LSTM_Word2Vec_model_fit.history['accuracy'])\n",
    "plt.plot(Bil_LSTM_Word2Vec_model_fit.history['val_accuracy'])\n",
    "plt.title('Bidirecitonal LSTM-Word2Vec Model accuracy')\n",
    "plt.ylabel('Accuracy')\n",
    "plt.xlabel('Epoch')\n",
    "plt.legend(['Training Accuracy', 'Validation Accuracy'], loc='upper left')\n",
    "plt.show()\n",
    "\n",
    "# Plot training & validation loss values\n",
    "plt.plot(Bil_LSTM_Word2Vec_model_fit.history['loss'])\n",
    "plt.plot(Bil_LSTM_Word2Vec_model_fit.history['val_loss'])\n",
    "plt.title('Bidirecitonal LSTM-Word2Vec Model loss')\n",
    "plt.ylabel('Loss')\n",
    "plt.xlabel('Epoch')\n",
    "plt.legend(['Training Loss', 'Validation Loss'], loc='lower right')\n",
    "plt.show()"
   ]
  },
  {
   "cell_type": "code",
   "execution_count": null,
   "metadata": {},
   "outputs": [],
   "source": []
  }
 ],
 "metadata": {
  "celltoolbar": "Aucun(e)",
  "kernelspec": {
   "display_name": "Python 3",
   "language": "python",
   "name": "python3"
  },
  "language_info": {
   "codemirror_mode": {
    "name": "ipython",
    "version": 3
   },
   "file_extension": ".py",
   "mimetype": "text/x-python",
   "name": "python",
   "nbconvert_exporter": "python",
   "pygments_lexer": "ipython3",
   "version": "3.6.12"
  }
 },
 "nbformat": 4,
 "nbformat_minor": 4
}
